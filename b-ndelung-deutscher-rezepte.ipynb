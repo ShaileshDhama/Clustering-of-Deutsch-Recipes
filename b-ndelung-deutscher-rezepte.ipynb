{
 "cells": [
  {
   "cell_type": "markdown",
   "metadata": {},
   "source": [
    "**Zusammenfassung**\n",
    "\n",
    "* Ein Datensatz bestehend aus 12190 Deutsch-Rezepten, die aus dem Internet abgekratzt wurden, wird verwendet, um zu bestimmen, zu welcher Gruppe sie gemäß den Zutaten gehören.\n",
    "* Da kein Etikett angegeben ist, sollten unbeaufsichtigte Lernmethoden verwendet werden.\n",
    "* Zu Beginn werden die Daten gereinigt und vorverarbeitet, bevor die NLP-Technik über die Tf-IDF-Vektorisierung angewendet wird, um die Wichtigkeit der einzelnen Inhaltsstoffe für alle Beobachtungen im Datensatz zu ermitteln.\n",
    "* Danach sollte die Dimensionsreduktion von einer höheren Dimension nach der Vektorisierung zu einer niedrigeren Dimension für das K-Means-Clustering und auch für das t-SNE-Diagramm zur Visualisierung der Cluster erfolgen.\n",
    "* Interaktives Plotten über Plotly zur besseren Visualisierung der Plots."
   ]
  },
  {
   "cell_type": "markdown",
   "metadata": {},
   "source": [
    "**1.Importieren Sie die erforderlichen libraries**"
   ]
  },
  {
   "cell_type": "code",
   "execution_count": 1,
   "metadata": {
    "_cell_guid": "b1076dfc-b9ad-4769-8c92-a6c4dae69d19",
    "_uuid": "8f2839f25d086af736a60e9eeb907d3b93b6e0e5"
   },
   "outputs": [
    {
     "data": {
      "text/html": [
       "        <script type=\"text/javascript\">\n",
       "        window.PlotlyConfig = {MathJaxConfig: 'local'};\n",
       "        if (window.MathJax) {MathJax.Hub.Config({SVG: {font: \"STIX-Web\"}});}\n",
       "        if (typeof require !== 'undefined') {\n",
       "        require.undef(\"plotly\");\n",
       "        requirejs.config({\n",
       "            paths: {\n",
       "                'plotly': ['https://cdn.plot.ly/plotly-latest.min']\n",
       "            }\n",
       "        });\n",
       "        require(['plotly'], function(Plotly) {\n",
       "            window._Plotly = Plotly;\n",
       "        });\n",
       "        }\n",
       "        </script>\n",
       "        "
      ]
     },
     "metadata": {},
     "output_type": "display_data"
    }
   ],
   "source": [
    "import pandas as pd\n",
    "import numpy as np\n",
    "import json\n",
    "import re\n",
    "from nltk.tokenize import RegexpTokenizer, word_tokenize, sent_tokenize\n",
    "from sklearn.feature_extraction.text import TfidfVectorizer\n",
    "from sklearn.cluster import KMeans\n",
    "from sklearn.decomposition import PCA\n",
    "from sklearn.manifold import TSNE\n",
    "import plotly.offline as py\n",
    "py.init_notebook_mode(connected=True)\n",
    "import plotly.graph_objs as go\n",
    "import plotly.tools as tls\n",
    "import seaborn as sns\n",
    "import matplotlib.pyplot as plt\n",
    "%matplotlib inline"
   ]
  },
  {
   "cell_type": "markdown",
   "metadata": {},
   "source": [
    "**2.Datensatz öffnen**"
   ]
  },
  {
   "cell_type": "code",
   "execution_count": 2,
   "metadata": {},
   "outputs": [],
   "source": [
    "data = []\n",
    "with open('../input/german-recipes-dataset/recipes.json') as f:\n",
    "    for line in f:\n",
    "        data.append(json.loads(line))"
   ]
  },
  {
   "cell_type": "markdown",
   "metadata": {},
   "source": [
    "**3.Datensatz Lesen**"
   ]
  },
  {
   "cell_type": "code",
   "execution_count": 3,
   "metadata": {
    "_cell_guid": "79c7e3d0-c299-4dcb-8224-4455121ee9b0",
    "_uuid": "d629ff2d2480ee46fbb7e2d37f6b5fab8052498a"
   },
   "outputs": [
    {
     "data": {
      "text/html": [
       "<div>\n",
       "<style scoped>\n",
       "    .dataframe tbody tr th:only-of-type {\n",
       "        vertical-align: middle;\n",
       "    }\n",
       "\n",
       "    .dataframe tbody tr th {\n",
       "        vertical-align: top;\n",
       "    }\n",
       "\n",
       "    .dataframe thead th {\n",
       "        text-align: right;\n",
       "    }\n",
       "</style>\n",
       "<table border=\"1\" class=\"dataframe\">\n",
       "  <thead>\n",
       "    <tr style=\"text-align: right;\">\n",
       "      <th></th>\n",
       "      <th>Url</th>\n",
       "      <th>Instructions</th>\n",
       "      <th>Ingredients</th>\n",
       "      <th>Day</th>\n",
       "      <th>Name</th>\n",
       "      <th>Year</th>\n",
       "      <th>Month</th>\n",
       "      <th>Weekday</th>\n",
       "    </tr>\n",
       "  </thead>\n",
       "  <tbody>\n",
       "    <tr>\n",
       "      <th>0</th>\n",
       "      <td>https://www.chefkoch.de/rezepte/185441079701305/</td>\n",
       "      <td>Die Eier hart kochen. Dann pellen und mit eine...</td>\n",
       "      <td>[600 g Hackfleisch, halb und halb, 800 g Sauer...</td>\n",
       "      <td>1</td>\n",
       "      <td>Gebratener Hasenrücken</td>\n",
       "      <td>2009</td>\n",
       "      <td>January</td>\n",
       "      <td>Thursday</td>\n",
       "    </tr>\n",
       "    <tr>\n",
       "      <th>1</th>\n",
       "      <td>https://www.chefkoch.de/rezepte/2718181424631245/</td>\n",
       "      <td>Vorab folgende Bemerkung: Alle Mengen sind Cir...</td>\n",
       "      <td>[1 kg Strauchtomate(n), 1 Gemüsezwiebel(n), 1 ...</td>\n",
       "      <td>1</td>\n",
       "      <td>Pilz Stroganoff</td>\n",
       "      <td>2017</td>\n",
       "      <td>July</td>\n",
       "      <td>Saturday</td>\n",
       "    </tr>\n",
       "    <tr>\n",
       "      <th>2</th>\n",
       "      <td>https://www.chefkoch.de/rezepte/46341015661368/</td>\n",
       "      <td>Die Kirschen abtropfen lassen, dabei den Saft ...</td>\n",
       "      <td>[1 Glas Kirsche(n), 1 Pck. Vanillepuddingpulve...</td>\n",
       "      <td>1</td>\n",
       "      <td>Kaninchen a la Gioff</td>\n",
       "      <td>2007</td>\n",
       "      <td>January</td>\n",
       "      <td>Monday</td>\n",
       "    </tr>\n",
       "    <tr>\n",
       "      <th>3</th>\n",
       "      <td>https://www.chefkoch.de/rezepte/51051018014178/</td>\n",
       "      <td>Den Spargel säubern, die holzigen Enden abschn...</td>\n",
       "      <td>[500 g Spargel, grüner, 300 ml Brühe oder Fond...</td>\n",
       "      <td>1</td>\n",
       "      <td>Spanisches Knoblauch-Kaninchen</td>\n",
       "      <td>2013</td>\n",
       "      <td>April</td>\n",
       "      <td>Monday</td>\n",
       "    </tr>\n",
       "    <tr>\n",
       "      <th>4</th>\n",
       "      <td>https://www.chefkoch.de/rezepte/1555771262860408/</td>\n",
       "      <td>Kohlrabi schälen und klein würfeln. Mit der Br...</td>\n",
       "      <td>[250 g Kohlrabi, 150 ml Gemüsebrühe, 150 ml Mi...</td>\n",
       "      <td>1</td>\n",
       "      <td>Gnocchi - Hack - Pfanne mit Basilikum</td>\n",
       "      <td>2017</td>\n",
       "      <td>August</td>\n",
       "      <td>Tuesday</td>\n",
       "    </tr>\n",
       "  </tbody>\n",
       "</table>\n",
       "</div>"
      ],
      "text/plain": [
       "                                                 Url  \\\n",
       "0   https://www.chefkoch.de/rezepte/185441079701305/   \n",
       "1  https://www.chefkoch.de/rezepte/2718181424631245/   \n",
       "2    https://www.chefkoch.de/rezepte/46341015661368/   \n",
       "3    https://www.chefkoch.de/rezepte/51051018014178/   \n",
       "4  https://www.chefkoch.de/rezepte/1555771262860408/   \n",
       "\n",
       "                                        Instructions  \\\n",
       "0  Die Eier hart kochen. Dann pellen und mit eine...   \n",
       "1  Vorab folgende Bemerkung: Alle Mengen sind Cir...   \n",
       "2  Die Kirschen abtropfen lassen, dabei den Saft ...   \n",
       "3  Den Spargel säubern, die holzigen Enden abschn...   \n",
       "4  Kohlrabi schälen und klein würfeln. Mit der Br...   \n",
       "\n",
       "                                         Ingredients  Day  \\\n",
       "0  [600 g Hackfleisch, halb und halb, 800 g Sauer...    1   \n",
       "1  [1 kg Strauchtomate(n), 1 Gemüsezwiebel(n), 1 ...    1   \n",
       "2  [1 Glas Kirsche(n), 1 Pck. Vanillepuddingpulve...    1   \n",
       "3  [500 g Spargel, grüner, 300 ml Brühe oder Fond...    1   \n",
       "4  [250 g Kohlrabi, 150 ml Gemüsebrühe, 150 ml Mi...    1   \n",
       "\n",
       "                                    Name  Year    Month   Weekday  \n",
       "0                 Gebratener Hasenrücken  2009  January  Thursday  \n",
       "1                        Pilz Stroganoff  2017     July  Saturday  \n",
       "2                   Kaninchen a la Gioff  2007  January    Monday  \n",
       "3         Spanisches Knoblauch-Kaninchen  2013    April    Monday  \n",
       "4  Gnocchi - Hack - Pfanne mit Basilikum  2017   August   Tuesday  "
      ]
     },
     "execution_count": 3,
     "metadata": {},
     "output_type": "execute_result"
    }
   ],
   "source": [
    "recipe = data[0]\n",
    "df = pd.DataFrame(recipe)\n",
    "df.head()"
   ]
  },
  {
   "cell_type": "code",
   "execution_count": 4,
   "metadata": {},
   "outputs": [
    {
     "data": {
      "text/plain": [
       "(12190, 8)"
      ]
     },
     "execution_count": 4,
     "metadata": {},
     "output_type": "execute_result"
    }
   ],
   "source": [
    "df.shape"
   ]
  },
  {
   "cell_type": "markdown",
   "metadata": {},
   "source": [
    "**4.Datenbereinigung und vorverarbeitung**"
   ]
  },
  {
   "cell_type": "code",
   "execution_count": 5,
   "metadata": {},
   "outputs": [
    {
     "data": {
      "text/plain": [
       "(192, 8)"
      ]
     },
     "execution_count": 5,
     "metadata": {},
     "output_type": "execute_result"
    }
   ],
   "source": [
    "df = df.drop_duplicates(['Name'],keep='first')\n",
    "df.shape"
   ]
  },
  {
   "cell_type": "code",
   "execution_count": 6,
   "metadata": {},
   "outputs": [
    {
     "data": {
      "text/html": [
       "<div>\n",
       "<style scoped>\n",
       "    .dataframe tbody tr th:only-of-type {\n",
       "        vertical-align: middle;\n",
       "    }\n",
       "\n",
       "    .dataframe tbody tr th {\n",
       "        vertical-align: top;\n",
       "    }\n",
       "\n",
       "    .dataframe thead th {\n",
       "        text-align: right;\n",
       "    }\n",
       "</style>\n",
       "<table border=\"1\" class=\"dataframe\">\n",
       "  <thead>\n",
       "    <tr style=\"text-align: right;\">\n",
       "      <th></th>\n",
       "      <th>Instructions</th>\n",
       "      <th>Ingredients</th>\n",
       "      <th>Name</th>\n",
       "    </tr>\n",
       "  </thead>\n",
       "  <tbody>\n",
       "    <tr>\n",
       "      <th>0</th>\n",
       "      <td>Die Eier hart kochen. Dann pellen und mit eine...</td>\n",
       "      <td>[600 g Hackfleisch, halb und halb, 800 g Sauer...</td>\n",
       "      <td>Gebratener Hasenrücken</td>\n",
       "    </tr>\n",
       "    <tr>\n",
       "      <th>1</th>\n",
       "      <td>Vorab folgende Bemerkung: Alle Mengen sind Cir...</td>\n",
       "      <td>[1 kg Strauchtomate(n), 1 Gemüsezwiebel(n), 1 ...</td>\n",
       "      <td>Pilz Stroganoff</td>\n",
       "    </tr>\n",
       "    <tr>\n",
       "      <th>2</th>\n",
       "      <td>Die Kirschen abtropfen lassen, dabei den Saft ...</td>\n",
       "      <td>[1 Glas Kirsche(n), 1 Pck. Vanillepuddingpulve...</td>\n",
       "      <td>Kaninchen a la Gioff</td>\n",
       "    </tr>\n",
       "    <tr>\n",
       "      <th>3</th>\n",
       "      <td>Den Spargel säubern, die holzigen Enden abschn...</td>\n",
       "      <td>[500 g Spargel, grüner, 300 ml Brühe oder Fond...</td>\n",
       "      <td>Spanisches Knoblauch-Kaninchen</td>\n",
       "    </tr>\n",
       "    <tr>\n",
       "      <th>4</th>\n",
       "      <td>Kohlrabi schälen und klein würfeln. Mit der Br...</td>\n",
       "      <td>[250 g Kohlrabi, 150 ml Gemüsebrühe, 150 ml Mi...</td>\n",
       "      <td>Gnocchi - Hack - Pfanne mit Basilikum</td>\n",
       "    </tr>\n",
       "  </tbody>\n",
       "</table>\n",
       "</div>"
      ],
      "text/plain": [
       "                                        Instructions  \\\n",
       "0  Die Eier hart kochen. Dann pellen und mit eine...   \n",
       "1  Vorab folgende Bemerkung: Alle Mengen sind Cir...   \n",
       "2  Die Kirschen abtropfen lassen, dabei den Saft ...   \n",
       "3  Den Spargel säubern, die holzigen Enden abschn...   \n",
       "4  Kohlrabi schälen und klein würfeln. Mit der Br...   \n",
       "\n",
       "                                         Ingredients  \\\n",
       "0  [600 g Hackfleisch, halb und halb, 800 g Sauer...   \n",
       "1  [1 kg Strauchtomate(n), 1 Gemüsezwiebel(n), 1 ...   \n",
       "2  [1 Glas Kirsche(n), 1 Pck. Vanillepuddingpulve...   \n",
       "3  [500 g Spargel, grüner, 300 ml Brühe oder Fond...   \n",
       "4  [250 g Kohlrabi, 150 ml Gemüsebrühe, 150 ml Mi...   \n",
       "\n",
       "                                    Name  \n",
       "0                 Gebratener Hasenrücken  \n",
       "1                        Pilz Stroganoff  \n",
       "2                   Kaninchen a la Gioff  \n",
       "3         Spanisches Knoblauch-Kaninchen  \n",
       "4  Gnocchi - Hack - Pfanne mit Basilikum  "
      ]
     },
     "execution_count": 6,
     "metadata": {},
     "output_type": "execute_result"
    }
   ],
   "source": [
    "df = df.drop(['Day','Month','Url','Weekday','Year'],axis=1)\n",
    "df.head()"
   ]
  },
  {
   "cell_type": "code",
   "execution_count": 7,
   "metadata": {},
   "outputs": [
    {
     "data": {
      "text/html": [
       "<div>\n",
       "<style scoped>\n",
       "    .dataframe tbody tr th:only-of-type {\n",
       "        vertical-align: middle;\n",
       "    }\n",
       "\n",
       "    .dataframe tbody tr th {\n",
       "        vertical-align: top;\n",
       "    }\n",
       "\n",
       "    .dataframe thead th {\n",
       "        text-align: right;\n",
       "    }\n",
       "</style>\n",
       "<table border=\"1\" class=\"dataframe\">\n",
       "  <thead>\n",
       "    <tr style=\"text-align: right;\">\n",
       "      <th></th>\n",
       "      <th>Instructions</th>\n",
       "      <th>Ingredients</th>\n",
       "      <th>Name</th>\n",
       "    </tr>\n",
       "  </thead>\n",
       "  <tbody>\n",
       "    <tr>\n",
       "      <th>0</th>\n",
       "      <td>Die Eier hart kochen. Dann pellen und mit eine...</td>\n",
       "      <td>600 g Hackfleisch, halb und halb 800 g Sauerkr...</td>\n",
       "      <td>Gebratener Hasenrücken</td>\n",
       "    </tr>\n",
       "    <tr>\n",
       "      <th>1</th>\n",
       "      <td>Vorab folgende Bemerkung: Alle Mengen sind Cir...</td>\n",
       "      <td>1 kg Strauchtomate(n) 1 Gemüsezwiebel(n) 1 Sal...</td>\n",
       "      <td>Pilz Stroganoff</td>\n",
       "    </tr>\n",
       "    <tr>\n",
       "      <th>2</th>\n",
       "      <td>Die Kirschen abtropfen lassen, dabei den Saft ...</td>\n",
       "      <td>1 Glas Kirsche(n) 1 Pck. Vanillepuddingpulver,...</td>\n",
       "      <td>Kaninchen a la Gioff</td>\n",
       "    </tr>\n",
       "    <tr>\n",
       "      <th>3</th>\n",
       "      <td>Den Spargel säubern, die holzigen Enden abschn...</td>\n",
       "      <td>500 g Spargel, grüner 300 ml Brühe oder Fond (...</td>\n",
       "      <td>Spanisches Knoblauch-Kaninchen</td>\n",
       "    </tr>\n",
       "    <tr>\n",
       "      <th>4</th>\n",
       "      <td>Kohlrabi schälen und klein würfeln. Mit der Br...</td>\n",
       "      <td>250 g Kohlrabi 150 ml Gemüsebrühe 150 ml Milch...</td>\n",
       "      <td>Gnocchi - Hack - Pfanne mit Basilikum</td>\n",
       "    </tr>\n",
       "  </tbody>\n",
       "</table>\n",
       "</div>"
      ],
      "text/plain": [
       "                                        Instructions  \\\n",
       "0  Die Eier hart kochen. Dann pellen und mit eine...   \n",
       "1  Vorab folgende Bemerkung: Alle Mengen sind Cir...   \n",
       "2  Die Kirschen abtropfen lassen, dabei den Saft ...   \n",
       "3  Den Spargel säubern, die holzigen Enden abschn...   \n",
       "4  Kohlrabi schälen und klein würfeln. Mit der Br...   \n",
       "\n",
       "                                         Ingredients  \\\n",
       "0  600 g Hackfleisch, halb und halb 800 g Sauerkr...   \n",
       "1  1 kg Strauchtomate(n) 1 Gemüsezwiebel(n) 1 Sal...   \n",
       "2  1 Glas Kirsche(n) 1 Pck. Vanillepuddingpulver,...   \n",
       "3  500 g Spargel, grüner 300 ml Brühe oder Fond (...   \n",
       "4  250 g Kohlrabi 150 ml Gemüsebrühe 150 ml Milch...   \n",
       "\n",
       "                                    Name  \n",
       "0                 Gebratener Hasenrücken  \n",
       "1                        Pilz Stroganoff  \n",
       "2                   Kaninchen a la Gioff  \n",
       "3         Spanisches Knoblauch-Kaninchen  \n",
       "4  Gnocchi - Hack - Pfanne mit Basilikum  "
      ]
     },
     "execution_count": 7,
     "metadata": {},
     "output_type": "execute_result"
    }
   ],
   "source": [
    "df['Ingredients'] = df['Ingredients'].apply(lambda x: ' '.join(x))\n",
    "df.head()"
   ]
  },
  {
   "cell_type": "markdown",
   "metadata": {},
   "source": [
    "**5.TOKENISIERUNG & VEKTORISIERUNG**"
   ]
  },
  {
   "cell_type": "code",
   "execution_count": 8,
   "metadata": {},
   "outputs": [],
   "source": [
    "# Define a function to perform both stemming and tokenization\n",
    "def tokenizer(text):\n",
    "    \n",
    "    # Tokenize by sentence, then by word\n",
    "    tokens = [word for text in sent_tokenize(text) for word in word_tokenize(text)]\n",
    "    \n",
    "       \n",
    "    # Filter out raw tokens to remove noise\n",
    "    filtered_tokens = [token for token in tokens if re.match(r'[A-ZÄÖÜ][a-zäöüß]+', token)]\n",
    "    \n",
    "    return filtered_tokens"
   ]
  },
  {
   "cell_type": "code",
   "execution_count": 9,
   "metadata": {},
   "outputs": [],
   "source": [
    "# Instantiate TfidfVectorizer object with stopwords and tokenizer parameters for efficient processing of text\n",
    "\n",
    "tfidf_vectorizer = TfidfVectorizer(tokenizer=tokenizer,lowercase=False)"
   ]
  },
  {
   "cell_type": "code",
   "execution_count": 10,
   "metadata": {},
   "outputs": [
    {
     "name": "stdout",
     "output_type": "stream",
     "text": [
      "(192, 714)\n"
     ]
    }
   ],
   "source": [
    "# Fit and transform the tfidf_vectorizer with the \"plot\" of each movie to create a vector representation of the plot summaries\n",
    "\n",
    "tfidf_matrix = tfidf_vectorizer.fit_transform([x for x in df['Ingredients']])\n",
    "\n",
    "print(tfidf_matrix.shape)"
   ]
  },
  {
   "cell_type": "markdown",
   "metadata": {},
   "source": [
    "**6.K Means Clustering**\n",
    "\n",
    "Perform dimensional reduction before K Means Clustering"
   ]
  },
  {
   "cell_type": "code",
   "execution_count": 11,
   "metadata": {},
   "outputs": [],
   "source": [
    "pca = PCA(n_components=5)\n",
    "X = pca.fit_transform(tfidf_matrix.todense())"
   ]
  },
  {
   "cell_type": "code",
   "execution_count": 12,
   "metadata": {},
   "outputs": [
    {
     "name": "stdout",
     "output_type": "stream",
     "text": [
      "Fit 2 clusters\n",
      "Fit 3 clusters\n",
      "Fit 4 clusters\n",
      "Fit 5 clusters\n",
      "Fit 6 clusters\n",
      "Fit 7 clusters\n",
      "Fit 8 clusters\n",
      "Fit 9 clusters\n",
      "Fit 10 clusters\n",
      "Fit 11 clusters\n",
      "Fit 12 clusters\n",
      "Fit 13 clusters\n",
      "Fit 14 clusters\n",
      "Fit 15 clusters\n",
      "Fit 16 clusters\n",
      "Fit 17 clusters\n",
      "Fit 18 clusters\n",
      "Fit 19 clusters\n",
      "Fit 20 clusters\n"
     ]
    },
    {
     "data": {
      "image/png": "[encoded data removed]",
      "text/plain": [
       "<Figure size 432x288 with 1 Axes>"
      ]
     },
     "metadata": {
      "needs_background": "light"
     },
     "output_type": "display_data"
    }
   ],
   "source": [
    "def find_optimal_clusters(data, max_k):\n",
    "    iters = range(2, max_k+1, 1)\n",
    "    \n",
    "    sse = []\n",
    "    for k in iters:\n",
    "        sse.append(KMeans(n_clusters=k, random_state=20).fit(data).inertia_)\n",
    "        print('Fit {} clusters'.format(k))\n",
    "        \n",
    "    f, ax = plt.subplots(1, 1)\n",
    "    ax.plot(iters, sse, marker='o')\n",
    "    ax.set_xlabel('Cluster Centers')\n",
    "    ax.set_xticks(iters)\n",
    "    ax.set_xticklabels(iters)\n",
    "    ax.set_ylabel('SSE')\n",
    "    ax.set_title('SSE by Cluster Center Plot')\n",
    "    \n",
    "find_optimal_clusters(tfidf_matrix, 20)"
   ]
  },
  {
   "cell_type": "markdown",
   "metadata": {},
   "source": [
    "From cluster plot, there seems to be no change in direction of plot, 'elbow' is not visible. Hence, a random guess would be used for fitting and prediction in K Means."
   ]
  },
  {
   "cell_type": "code",
   "execution_count": 13,
   "metadata": {},
   "outputs": [
    {
     "data": {
      "text/html": [
       "<div>\n",
       "<style scoped>\n",
       "    .dataframe tbody tr th:only-of-type {\n",
       "        vertical-align: middle;\n",
       "    }\n",
       "\n",
       "    .dataframe tbody tr th {\n",
       "        vertical-align: top;\n",
       "    }\n",
       "\n",
       "    .dataframe thead th {\n",
       "        text-align: right;\n",
       "    }\n",
       "</style>\n",
       "<table border=\"1\" class=\"dataframe\">\n",
       "  <thead>\n",
       "    <tr style=\"text-align: right;\">\n",
       "      <th></th>\n",
       "      <th>Instructions</th>\n",
       "      <th>Ingredients</th>\n",
       "      <th>Name</th>\n",
       "      <th>clusters</th>\n",
       "    </tr>\n",
       "  </thead>\n",
       "  <tbody>\n",
       "    <tr>\n",
       "      <th>0</th>\n",
       "      <td>Die Eier hart kochen. Dann pellen und mit eine...</td>\n",
       "      <td>600 g Hackfleisch, halb und halb 800 g Sauerkr...</td>\n",
       "      <td>Gebratener Hasenrücken</td>\n",
       "      <td>4</td>\n",
       "    </tr>\n",
       "    <tr>\n",
       "      <th>1</th>\n",
       "      <td>Vorab folgende Bemerkung: Alle Mengen sind Cir...</td>\n",
       "      <td>1 kg Strauchtomate(n) 1 Gemüsezwiebel(n) 1 Sal...</td>\n",
       "      <td>Pilz Stroganoff</td>\n",
       "      <td>3</td>\n",
       "    </tr>\n",
       "    <tr>\n",
       "      <th>2</th>\n",
       "      <td>Die Kirschen abtropfen lassen, dabei den Saft ...</td>\n",
       "      <td>1 Glas Kirsche(n) 1 Pck. Vanillepuddingpulver,...</td>\n",
       "      <td>Kaninchen a la Gioff</td>\n",
       "      <td>0</td>\n",
       "    </tr>\n",
       "    <tr>\n",
       "      <th>3</th>\n",
       "      <td>Den Spargel säubern, die holzigen Enden abschn...</td>\n",
       "      <td>500 g Spargel, grüner 300 ml Brühe oder Fond (...</td>\n",
       "      <td>Spanisches Knoblauch-Kaninchen</td>\n",
       "      <td>0</td>\n",
       "    </tr>\n",
       "    <tr>\n",
       "      <th>4</th>\n",
       "      <td>Kohlrabi schälen und klein würfeln. Mit der Br...</td>\n",
       "      <td>250 g Kohlrabi 150 ml Gemüsebrühe 150 ml Milch...</td>\n",
       "      <td>Gnocchi - Hack - Pfanne mit Basilikum</td>\n",
       "      <td>2</td>\n",
       "    </tr>\n",
       "  </tbody>\n",
       "</table>\n",
       "</div>"
      ],
      "text/plain": [
       "                                        Instructions  \\\n",
       "0  Die Eier hart kochen. Dann pellen und mit eine...   \n",
       "1  Vorab folgende Bemerkung: Alle Mengen sind Cir...   \n",
       "2  Die Kirschen abtropfen lassen, dabei den Saft ...   \n",
       "3  Den Spargel säubern, die holzigen Enden abschn...   \n",
       "4  Kohlrabi schälen und klein würfeln. Mit der Br...   \n",
       "\n",
       "                                         Ingredients  \\\n",
       "0  600 g Hackfleisch, halb und halb 800 g Sauerkr...   \n",
       "1  1 kg Strauchtomate(n) 1 Gemüsezwiebel(n) 1 Sal...   \n",
       "2  1 Glas Kirsche(n) 1 Pck. Vanillepuddingpulver,...   \n",
       "3  500 g Spargel, grüner 300 ml Brühe oder Fond (...   \n",
       "4  250 g Kohlrabi 150 ml Gemüsebrühe 150 ml Milch...   \n",
       "\n",
       "                                    Name  clusters  \n",
       "0                 Gebratener Hasenrücken         4  \n",
       "1                        Pilz Stroganoff         3  \n",
       "2                   Kaninchen a la Gioff         0  \n",
       "3         Spanisches Knoblauch-Kaninchen         0  \n",
       "4  Gnocchi - Hack - Pfanne mit Basilikum         2  "
      ]
     },
     "execution_count": 13,
     "metadata": {},
     "output_type": "execute_result"
    }
   ],
   "source": [
    "clusters = KMeans(n_clusters=5, random_state=20).fit_predict(tfidf_matrix)\n",
    "df['clusters'] = clusters\n",
    "df.head()"
   ]
  },
  {
   "cell_type": "code",
   "execution_count": 14,
   "metadata": {},
   "outputs": [
    {
     "data": {
      "application/vnd.plotly.v1+json": {
       "config": {
        "linkText": "Export to plot.ly",
        "plotlyServerURL": "https://plot.ly",
        "showLink": false
       },
       "data": [
        {
         "hoverinfo": "text",
         "marker": {
          "color": [
           4,
           3,
           0,
           0,
           2,
           0,
           2,
           0,
           0,
           2,
           2,
           3,
           2,
           4,
           3,
           3,
           3,
           2,
           0,
           3,
           0,
           0,
           2,
           1,
           3,
           0,
           0,
           2,
           3,
           3,
           2,
           2,
           4,
           2,
           2,
           3,
           2,
           2,
           2,
           1,
           4,
           4,
           4,
           3,
           3,
           2,
           1,
           1,
           2,
           2,
           3,
           2,
           3,
           0,
           0,
           4,
           2,
           0,
           2,
           2,
           2,
           3,
           4,
           2,
           2,
           3,
           3,
           4,
           0,
           3,
           1,
           1,
           4,
           2,
           2,
           2,
           2,
           2,
           0,
           4,
           2,
           3,
           2,
           0,
           2,
           4,
           2,
           4,
           2,
           3,
           2,
           4,
           4,
           2,
           4,
           4,
           3,
           2,
           4,
           2,
           2,
           4,
           1,
           1,
           3,
           0,
           3,
           0,
           4,
           0,
           3,
           2,
           2,
           4,
           0,
           2,
           2,
           0,
           3,
           0,
           0,
           0,
           3,
           3,
           2,
           0,
           2,
           4,
           0,
           0,
           3,
           4,
           2,
           0,
           0,
           4,
           2,
           4,
           4,
           1,
           0,
           2,
           4,
           0,
           3,
           0,
           3,
           0,
           3,
           0,
           4,
           2,
           0,
           2,
           2,
           0,
           3,
           2,
           2,
           4,
           0,
           4,
           2,
           4,
           2,
           4,
           4,
           3,
           0,
           0,
           2,
           0,
           1,
           0,
           0,
           0,
           2,
           2,
           4,
           3,
           0,
           4,
           4,
           3,
           4,
           2,
           0,
           0,
           2,
           2,
           3,
           3
          ],
          "colorscale": [
           [
            0.0,
            "rgb(12,51,131)"
           ],
           [
            0.25,
            "rgb(10,136,186)"
           ],
           [
            0.5,
            "rgb(242,211,56)"
           ],
           [
            0.75,
            "rgb(242,143,56)"
           ],
           [
            1.0,
            "rgb(217,30,30)"
           ]
          ],
          "line": {
           "color": "rgb(255, 255, 255)",
           "width": 2
          },
          "showscale": false,
          "size": 8
         },
         "mode": "markers",
         "showlegend": false,
         "text": [
          "Gebratener Hasenrücken",
          "Pilz Stroganoff",
          "Kaninchen a la Gioff",
          "Spanisches Knoblauch-Kaninchen",
          "Gnocchi - Hack - Pfanne mit Basilikum",
          "Spaghetti Siracusani",
          "Rehrücken in Salzkruste mit Waldpilzgulasch",
          "Eier in Senfsauce",
          "Äppelufflaaf mett Woi",
          "Gefüllte Schinkenröllchen",
          "Leichtes Mittagessen",
          "Herzhafte Pfannkuchen",
          "Raizenkarpfen",
          "Bulgur Buddha Bowl",
          "Überbackene Rigatoni in Schinken-Sahne-Soße",
          "Gittas Schmorgurken",
          "Griechische Hackfleischquiche",
          "Kartoffelgratin mit Cheddar",
          "Sahne-Kräuter-Hähnchen",
          "Rotbarschfilet auf pürierten Tomaten mit Zucchini - Mozzarellahaube",
          "Bayerische Schinkennudeln",
          "Süße Schupfnudeln",
          "Kürbis - Quiche",
          "Mit Hackfleisch gefüllte Zucchini",
          "Fegato di Vitello alla Paesana",
          "Türkische Pide mit Käse und Sucuk",
          "Entenkeulen à la bourguignonne",
          "Chili sin Carne",
          "Kürbis-Orangen-Waffeln",
          "Deftiger Rehrücken",
          "Kritharaki-Salat mit Hackfleisch",
          "Nannis Reisauflauf",
          "Rosmarin-Balsamico-Schweinefilet",
          "Indischer Linseneintopf",
          "Böhmisches Gulasch",
          "Krautwickel mit Knackwurstfüllung",
          "Pangasiusfilet auf Ratatouille",
          "Kartoffel-Parmesan Puffer",
          "Kartoffelsalat mit Hackbällchen",
          "Hirsesalat",
          "Fischsuppe",
          "Kartoffelsuppe mit Würstchen",
          "Schweineschnitzel unter Bärlauch-Cornflakes Haube",
          "Gefüllte Paprika mit Hackfleisch und Reis",
          "Gefüllte Koteletts",
          "Fladenbrotpizza \"Napoli\"",
          "Putenspieße mit Schafkäsesauce",
          "Makkaroni in Tomatensahnesoße",
          "Hähnchenschlegel mit Bärlauchkruste",
          "Schweinefilet Normandie",
          "Gemüsepfanne mit Leberkäse",
          "Gebratener grüner Spargel mit Kirschtomaten und Kartöffelchen",
          "Chilinudeln mit Cashewnüssen",
          "Bäckerofen aus dem Elsaß",
          "Gefüllte Erdäpfel",
          "New York Club Sandwich",
          "Kölner Neujahrskarpfen",
          "Börek",
          "Reiberdatschi",
          "Klassisches Jägerschnitzel",
          "Yufka mit Gemüse- und Rindfleischfüllung",
          "Hackklöße in Curry - Sahnesoße",
          "Rehkeule mit Bratäpfel",
          "Sächsische Kartoffelsuppe - vegane Variante",
          "Kalbsschnitzel mit Zitrone und Kapern",
          "Wirsing - Quiche",
          "Geflügelsalat",
          "Pangasius aus dem Pergament",
          "Gyrosschichtbraten",
          "Schinken-Hack-Rouladen",
          "Bohnensuppe mit Rippchen",
          "Fischstäbchenspieße zum Grillen und Braten",
          "Eier - Rouladen",
          "Hirsch - Medaillons in Pfeffersauce",
          "Flammkuchen mit Ziegenkäse, Rosmarin und Honig",
          "Risotto vom Fisch",
          "Geschichtetes Kraut",
          "Blumenkohlauflauf mit Hackfleisch und Kartoffelbrei",
          "Knusperscholle",
          "Hirsepfannkuchen mit Spinatfüllung",
          "Gebratener Spargel mit Bärlauch",
          "Frittierter Fisch mit Erdbeer - Meerrettich",
          "Baltimore Krabben",
          "Lachs gedämpft",
          "Himmlischer Sauerkrautauflauf",
          "Rotbarsch mit Petersilienschaum",
          "Rohrnudeln",
          "Rosenkohlsuppe mit Cabanossi und Basilikum",
          "Apfel-Pfannkuchen",
          "Matjesfilets mit Bratkartoffeln",
          "Orientalische Zucchini-Zwiebel-Pfanne mit Bulgur",
          "Miris feine Knoblauchspaghetti",
          "'Züri Gschnätzlets' mit Rösti",
          "Kleine Kartoffelgratins mit Käsechips",
          "Grünkernrolle mit Paprikasoße",
          "Kohl mit Kartoffeln",
          "Kohlrabi-Risotto mit Pinienkernen",
          "Frutti di Mare in Paprikaschoten Buzuluk",
          "Bautzener Topfsülze",
          "Schneller Schwarzwurzel-Auflauf",
          "Tandoori Hähnchenspieße",
          "Milchsuppe süß",
          "Sächsische Kartoffelsuppe",
          "Gong Bao Chicken",
          "Tomaten-Spinat-Pasta",
          "Japanische Steakrollen",
          "Couscoussalat mit Rosinen und Minze",
          "Am Spieß gebratenes Schweinefleisch mit Malzextrakt",
          "Lammrücken im Kräutermantel",
          "Lachsfilet auf Rahmwirsing",
          "Debreciner vom Rost",
          "Dinkelsalat",
          "Steirische Apfelspatzen",
          "Hähnchen-Zucchini-Geschnetzeltes mit Kokosmilch",
          "Spaghetti-Auflauf mit Speck",
          "Spare Ribs",
          "Pikant gefüllte Knackwürste",
          "Tarte au Ratatouille",
          "Fischsuppe Sèteois",
          "Schwarzwurzel - Auflauf mit Kasseler",
          "Gulaschsuppe",
          "Kürbisquiche mit eingelegtem Kürbis und Gorgonzola",
          "In Rotwein geschmorte Kaninchenkeulen mit Spätzle",
          "Estragon - Braten",
          "Fenchel - Tomaten - Spagetti",
          "Pasta estiva",
          "Nudeln mit Mascarpone und Räucherspeck",
          "Pierogi",
          "Krautsuppe",
          "Erdbeerreis",
          "Gratin vom Blumenkohl",
          "Albertos Risoni",
          "Gefüllte Buchteln mit Frühlingssalat",
          "Monkey-Burger",
          "Caesar Salad",
          "Linsensuppe à la Mama",
          "Matjes in Curry - Sahne",
          "Apfel - Reis - Auflauf",
          "Tomaten-Zucchini-Pfanne mit Feta",
          "Argentinisches Rinderhüftsteak mit grünen Bohnen, Pfeffer - Sahne - Sauce, Bratkartoffeln",
          "Eckis italienischer Nudelsalat mit Pesto",
          "Hackbraten mit Kartoffeln in Sahne",
          "Makkaroni al Yei",
          "Kartoffelsuppe",
          "Bratbällchen in Schmorgurken - Pfanne",
          "Matjes nach Friesin Art",
          "Medaillons vom Reh an Preiselbeerjus",
          "Paprikakoteletts",
          "Wokpfanne nach Szechuanart",
          "Schweinefilet mit buntem Salat",
          "Fisch in Sauerampfer",
          "Schwarzwurzeln in Schinken",
          "Couscous-Salat mit Gemüse und Minze",
          "Reibekuchen nach Opas Art",
          "Chop Suey für Figurbewusste",
          "Tomaten-Zucchini-Spaghetti",
          "Zucchinieintopf mit Graupen und Tomaten",
          "Fischfilet-Gratin mit Porree und Tomaten",
          "Fenchel-Fisch-Auflauf",
          "Topfenstrudel mit Früchten",
          "Überbackenes Schnitzel",
          "Kräuter-Putenbraten auf Frühlingsgemüse",
          "Tagliatelle mit Leber und Salbei",
          "Erbsensuppe mit Frischkäse und gekochtem Schinken",
          "Lachsfilet mit Kartoffel-Käsekruste",
          "Bolognese vegan",
          "Arabischer Schäferspieß",
          "Raclette-Reste Auflauf",
          "Fleischtopf mit Knoblauch",
          "Kaninchenkeulen mit Weißwein und Oliven",
          "Amselfelder Pfannkuchen",
          "Fruchtiges Curry - Geschnetzeltes",
          "Gefüllter Lammbraten mit Gemüse",
          "Bacon-Lamm mit Bärlauchrisotto",
          "Fischertopf",
          "Schwammerl-Nudel-Pfanne",
          "Hähnchenbrustfilet in Rhabarber - Rahmsauce",
          "Forellen - Saltimbocca mit gebratenem Gemüse",
          "Obst-Schnitzel-Grillspieße",
          "Buttermilch - Walnuss - Salat mit Pellkartoffeln",
          "Gekräuterte Lammlachse",
          "Davids Bauernfrühstück",
          "Serbischer Paprikaeintopf",
          "Süßkartoffeln mit mariniertem Hähnchen",
          "Schweinelendchen in Sahne - Calvados - Sauce",
          "Nudelauflauf mit Hähnchen und Ananas",
          "Friedhelms Pfannkuchen",
          "Geschnetzeltes Putenfleisch mit Möhren und Frühlingszwiebeln",
          "Saftiger Putenbraten mit Gemüse à la Provence",
          "Bandnudeln mit Rosenkohl",
          "Tortellini alla panna",
          "Thunfisch - Nudel - Auflauf"
         ],
         "type": "scatter",
         "x": [
          0.0158775231964801,
          -0.19125931672176613,
          0.26472339067771933,
          -0.07033134109558747,
          0.057873193817336376,
          0.2394101731066948,
          0.021059238303894327,
          -0.006655383496445153,
          0.3154859694710955,
          -0.022747204264769713,
          0.09009757965730578,
          -0.08378305665940458,
          -0.15158894184372512,
          -0.012960982467751774,
          0.015919328694175092,
          -0.16886773247646836,
          0.07494867444630492,
          -0.04776449671702164,
          0.29651439077422515,
          -0.15747072928490413,
          0.20031628007746521,
          0.2503099618529119,
          0.10043575145688838,
          -0.0983871425516934,
          -0.04805124294484205,
          0.2118007486255774,
          0.24096960086036395,
          -0.06901799007185021,
          0.024322161572873417,
          -0.09496918035523556,
          0.13196199759680918,
          0.03809927466903629,
          -0.2377618465209684,
          -0.012791350236242997,
          -0.0746713108237187,
          0.014892653160380761,
          -0.05180658434603723,
          -0.08369821185866151,
          -0.11744018978792513,
          -0.0725363398547898,
          -0.087093735906113,
          -0.07088418648941741,
          -0.16411522882764484,
          -0.16913642291236014,
          -0.027466877431673968,
          -0.021756589611640238,
          -0.029691189225282622,
          -0.03266754195969951,
          -0.030477378625848255,
          0.06039500319390821,
          -0.2569383479421046,
          0.08858423987319357,
          -0.14000807786863773,
          0.10394505991667967,
          0.25652241940054993,
          -0.14000653635315025,
          0.2506747113547276,
          0.3062006263458021,
          0.025876722556555275,
          0.12688268212410947,
          -0.0686677072070417,
          -0.018361294769739685,
          -0.2773418233067302,
          -0.08499455661206494,
          -0.10840739398550212,
          -0.05203284891278087,
          0.018481339919191982,
          -0.2298769308265282,
          0.16707149147572323,
          0.0968277957087841,
          -0.0983871425516934,
          -0.12927947372954915,
          -0.1598267964629463,
          0.03228346196008923,
          -0.011076126673684399,
          -0.057547744919013204,
          0.253814482820722,
          -0.01425289645687054,
          0.17924925663620656,
          -0.228205077930132,
          -0.016225016919181386,
          -0.23556608796422654,
          0.20139476682710547,
          0.030256180685674275,
          0.028133997871473523,
          -0.02834269354514653,
          0.03550768683200351,
          -0.060124464845114106,
          0.1493302718752899,
          -0.01154550051992486,
          0.10505171958380251,
          0.08295056155280207,
          -0.20012064414833564,
          -0.02335434004595508,
          -0.023640437240829003,
          -0.07974815580697202,
          -0.20303246759285085,
          0.040640811741047826,
          -0.01764768693636007,
          -0.010987744369624365,
          0.051448819904577066,
          0.09247254183239302,
          -0.10781090060098693,
          -0.07630109415572213,
          -0.30644233577531355,
          0.39075130696920934,
          -0.21039009637193087,
          0.290453321593901,
          -0.036231763348857804,
          -0.01031923019323656,
          -0.09012123722022149,
          0.05009386642392659,
          -0.15185682821053054,
          -0.13273093684223614,
          0.19222316267677586,
          -0.047348069074832695,
          -0.11692063130975784,
          0.13367953356141762,
          -0.02796953612249878,
          0.21775062738508252,
          0.025975962166716042,
          0.05556096827339679,
          0.05197505284756613,
          0.06742109111977593,
          -0.09149539271882651,
          0.24221797271858475,
          -0.1307461629791649,
          -0.16884270766548962,
          0.11261100089529309,
          0.3238965213773158,
          -0.27071867601915167,
          -0.0217106255936222,
          -0.049026526076332316,
          0.19244937722111824,
          0.01099545313349165,
          -0.1176606197022728,
          -0.04459653639456498,
          -0.17519714483092852,
          -0.029671665039207182,
          -0.1352171527403793,
          0.37053596668902666,
          0.05203621756284124,
          -0.1227850927329854,
          0.17835501751171395,
          -0.00017758411607097577,
          0.15249768761218252,
          0.10345055325927485,
          0.1866311710268257,
          -0.12812923093659917,
          0.06826262524754471,
          -0.07815473988316236,
          0.05812158793063956,
          -0.018071127756964147,
          0.10474926294808637,
          -0.07191450816024836,
          0.10006876077124204,
          -0.0026081470749443445,
          0.02976317001424891,
          0.1494623979942359,
          0.008816632934727977,
          0.05810294119545964,
          -0.1539455738432777,
          -0.08063244734634245,
          -0.2524440999622709,
          -0.12959781575517584,
          -0.18810739528975706,
          -0.07516629303764298,
          -0.07340108258464106,
          0.07748638432748813,
          0.3945672992163323,
          -0.0048001556521147185,
          -0.015267255349558856,
          -0.16992195935039595,
          -0.12033050882883638,
          0.04290074523735106,
          0.1864341231201068,
          -0.06356329387994432,
          -0.023581757961473947,
          -0.05235125960365589,
          -0.17948385204314204,
          -0.07810781175101891,
          -0.12827756623566175,
          -0.06969645177270672,
          -0.09317922053916673,
          -0.09184812461844377,
          -0.14134026761267468,
          0.36313397016851967,
          0.2510109147686516,
          0.02024979215211722,
          0.04018548192612705,
          0.09642228391846033,
          -0.19070851542960482
         ],
         "y": [
          0.20418796865321884,
          -0.12234606996123698,
          -0.17398444645680183,
          -0.031607276688236985,
          0.01975744155734243,
          -0.08350702293314233,
          -0.11383515288068499,
          -0.11948813239202226,
          0.09070247458433489,
          0.3747752573850662,
          0.1742827723967171,
          0.089794576335336,
          -0.059278456513864965,
          -0.18968051442076284,
          0.15993239182758612,
          -0.0016153295915483077,
          0.009091448765735718,
          0.1412575236873694,
          0.0008967924576103239,
          0.23381049258273476,
          -0.08655983036441008,
          0.12556837617235367,
          -0.0061457618599907666,
          -0.19825021960857175,
          0.0802473768112773,
          -0.2734172377314482,
          -0.023473957049169453,
          -0.08933629274094186,
          -0.040527384375786527,
          -0.019310070301518722,
          0.13509042935732868,
          0.07123017868280915,
          -0.21487897365034203,
          0.026159676122019273,
          -0.004847017521648166,
          0.22753720847058317,
          0.25769459444949255,
          0.30723414582621744,
          -0.06478536079145522,
          0.0073926954883320505,
          -0.09345201543847934,
          0.2073641792479549,
          -0.033430972497289706,
          0.07631991154289586,
          0.051763757029974634,
          -0.0012815003586497623,
          -0.11848914603114605,
          -0.15320418568915117,
          0.009052773065412145,
          0.20830459532637044,
          -0.023072529119615097,
          0.11221059053873832,
          -0.07539174005084676,
          -0.16389194908646318,
          -0.22942927146228895,
          -0.19231295120421515,
          0.10130475267094519,
          0.17134213528122189,
          0.22633653363980252,
          0.07149771842040874,
          -0.003683774402840513,
          0.13576827678142162,
          -0.1711850539352231,
          0.3067149201890037,
          0.14953895892347993,
          -0.0599691685632579,
          -0.1827825332442217,
          -0.1778444382412157,
          -0.17240408095990523,
          0.12563466847433513,
          -0.19825021960857175,
          -0.06261472191127881,
          -0.16961233536688886,
          0.2412694346847452,
          -0.023214953010817684,
          0.07987362859576129,
          -0.02690806813440736,
          0.06667315155333918,
          -0.04242532209126511,
          -0.10773064110913592,
          0.09106910589809844,
          -0.13220304628704288,
          0.12163549575132401,
          -0.01532566079987447,
          0.2767241193442276,
          0.24227128927731523,
          0.18844002108982416,
          0.034599483753131835,
          0.3836462198873405,
          -0.05816636220534043,
          0.10126451959962934,
          0.08023077805546196,
          -0.08428327799480276,
          -0.01539973285793875,
          0.23040309498927833,
          -0.0923252392182486,
          -0.11647275390941254,
          0.21451079717394483,
          -0.02127097776353752,
          0.17391766142496315,
          -0.14426704189220596,
          -0.06914015058969854,
          -0.1288885216028572,
          -0.15124194632754184,
          -0.17426343027845576,
          -0.028037295345445433,
          -0.09647753881111613,
          -0.0773910980180075,
          -0.1396303194205889,
          -0.2092369352950618,
          -0.0947102424556405,
          0.08055025387965561,
          0.06313482133992286,
          -0.05543663526044316,
          -0.0960644749025228,
          0.13009119080975057,
          0.028433108077453993,
          -0.1948723894033496,
          -0.05727816788360832,
          -0.060338903280716345,
          -0.08467830096683789,
          -0.04927779277942902,
          0.05781131263924513,
          -0.11818692888810421,
          -0.012682528443867217,
          -0.18278656461855153,
          -0.07848274013897769,
          -0.08605295080137446,
          -0.04015193074315881,
          -0.2118922778887351,
          0.03156708554023111,
          0.005742491574843615,
          0.2523449339305467,
          -0.2653752566675215,
          0.1300410114338849,
          0.031130611296386782,
          0.014545595051716822,
          0.21185938739466528,
          -0.2101569344182407,
          -0.03210091290583549,
          -0.2515634133635486,
          0.015601676796761605,
          -0.17261938336115865,
          -0.0674898040276746,
          0.009102267026773404,
          0.1469711586077466,
          -0.005882560892188672,
          -0.20958837577424677,
          -0.011597933218965314,
          0.0390627327215751,
          -0.078309277777314,
          0.046056791254594706,
          0.15344421139108635,
          0.16397871956643184,
          -0.03792697401119425,
          -0.14066557335474975,
          -0.045138800373863676,
          0.12426005778837014,
          0.147976942343467,
          -0.0848463129561417,
          -0.07898761262971836,
          0.09876455326247359,
          0.042280077361410255,
          -0.0462062392116558,
          0.11359885077394438,
          -0.005725329801423983,
          -0.020335868738472148,
          -0.20134766133438392,
          -0.09786774545533893,
          -0.25126409686971163,
          0.2019357995651807,
          0.09016902890676358,
          -0.11496477322765608,
          -0.14958610967075803,
          -0.08969348328996125,
          -0.11982801292396317,
          0.25888577249099426,
          0.15726514337530303,
          -0.12122980812416317,
          0.044763523953075396,
          -0.120661615872402,
          0.04248626058071155,
          -0.03416871904682736,
          0.14244740738493095,
          -0.09306755532249121,
          0.022671860635633645,
          0.10749922975520901,
          -0.09358417270908327,
          0.15981436639522212,
          0.19326867966797212,
          0.13744788351584733,
          -0.08518063815969046
         ]
        }
       ],
       "layout": {
        "height": 600,
        "hovermode": "closest",
        "showlegend": false,
        "template": {
         "data": {
          "bar": [
           {
            "error_x": {
             "color": "#2a3f5f"
            },
            "error_y": {
             "color": "#2a3f5f"
            },
            "marker": {
             "line": {
              "color": "#E5ECF6",
              "width": 0.5
             }
            },
            "type": "bar"
           }
          ],
          "barpolar": [
           {
            "marker": {
             "line": {
              "color": "#E5ECF6",
              "width": 0.5
             }
            },
            "type": "barpolar"
           }
          ],
          "carpet": [
           {
            "aaxis": {
             "endlinecolor": "#2a3f5f",
             "gridcolor": "white",
             "linecolor": "white",
             "minorgridcolor": "white",
             "startlinecolor": "#2a3f5f"
            },
            "baxis": {
             "endlinecolor": "#2a3f5f",
             "gridcolor": "white",
             "linecolor": "white",
             "minorgridcolor": "white",
             "startlinecolor": "#2a3f5f"
            },
            "type": "carpet"
           }
          ],
          "choropleth": [
           {
            "colorbar": {
             "outlinewidth": 0,
             "ticks": ""
            },
            "type": "choropleth"
           }
          ],
          "contour": [
           {
            "colorbar": {
             "outlinewidth": 0,
             "ticks": ""
            },
            "colorscale": [
             [
              0.0,
              "#0d0887"
             ],
             [
              0.1111111111111111,
              "#46039f"
             ],
             [
              0.2222222222222222,
              "#7201a8"
             ],
             [
              0.3333333333333333,
              "#9c179e"
             ],
             [
              0.4444444444444444,
              "#bd3786"
             ],
             [
              0.5555555555555556,
              "#d8576b"
             ],
             [
              0.6666666666666666,
              "#ed7953"
             ],
             [
              0.7777777777777778,
              "#fb9f3a"
             ],
             [
              0.8888888888888888,
              "#fdca26"
             ],
             [
              1.0,
              "#f0f921"
             ]
            ],
            "type": "contour"
           }
          ],
          "contourcarpet": [
           {
            "colorbar": {
             "outlinewidth": 0,
             "ticks": ""
            },
            "type": "contourcarpet"
           }
          ],
          "heatmap": [
           {
            "colorbar": {
             "outlinewidth": 0,
             "ticks": ""
            },
            "colorscale": [
             [
              0.0,
              "#0d0887"
             ],
             [
              0.1111111111111111,
              "#46039f"
             ],
             [
              0.2222222222222222,
              "#7201a8"
             ],
             [
              0.3333333333333333,
              "#9c179e"
             ],
             [
              0.4444444444444444,
              "#bd3786"
             ],
             [
              0.5555555555555556,
              "#d8576b"
             ],
             [
              0.6666666666666666,
              "#ed7953"
             ],
             [
              0.7777777777777778,
              "#fb9f3a"
             ],
             [
              0.8888888888888888,
              "#fdca26"
             ],
             [
              1.0,
              "#f0f921"
             ]
            ],
            "type": "heatmap"
           }
          ],
          "heatmapgl": [
           {
            "colorbar": {
             "outlinewidth": 0,
             "ticks": ""
            },
            "colorscale": [
             [
              0.0,
              "#0d0887"
             ],
             [
              0.1111111111111111,
              "#46039f"
             ],
             [
              0.2222222222222222,
              "#7201a8"
             ],
             [
              0.3333333333333333,
              "#9c179e"
             ],
             [
              0.4444444444444444,
              "#bd3786"
             ],
             [
              0.5555555555555556,
              "#d8576b"
             ],
             [
              0.6666666666666666,
              "#ed7953"
             ],
             [
              0.7777777777777778,
              "#fb9f3a"
             ],
             [
              0.8888888888888888,
              "#fdca26"
             ],
             [
              1.0,
              "#f0f921"
             ]
            ],
            "type": "heatmapgl"
           }
          ],
          "histogram": [
           {
            "marker": {
             "colorbar": {
              "outlinewidth": 0,
              "ticks": ""
             }
            },
            "type": "histogram"
           }
          ],
          "histogram2d": [
           {
            "colorbar": {
             "outlinewidth": 0,
             "ticks": ""
            },
            "colorscale": [
             [
              0.0,
              "#0d0887"
             ],
             [
              0.1111111111111111,
              "#46039f"
             ],
             [
              0.2222222222222222,
              "#7201a8"
             ],
             [
              0.3333333333333333,
              "#9c179e"
             ],
             [
              0.4444444444444444,
              "#bd3786"
             ],
             [
              0.5555555555555556,
              "#d8576b"
             ],
             [
              0.6666666666666666,
              "#ed7953"
             ],
             [
              0.7777777777777778,
              "#fb9f3a"
             ],
             [
              0.8888888888888888,
              "#fdca26"
             ],
             [
              1.0,
              "#f0f921"
             ]
            ],
            "type": "histogram2d"
           }
          ],
          "histogram2dcontour": [
           {
            "colorbar": {
             "outlinewidth": 0,
             "ticks": ""
            },
            "colorscale": [
             [
              0.0,
              "#0d0887"
             ],
             [
              0.1111111111111111,
              "#46039f"
             ],
             [
              0.2222222222222222,
              "#7201a8"
             ],
             [
              0.3333333333333333,
              "#9c179e"
             ],
             [
              0.4444444444444444,
              "#bd3786"
             ],
             [
              0.5555555555555556,
              "#d8576b"
             ],
             [
              0.6666666666666666,
              "#ed7953"
             ],
             [
              0.7777777777777778,
              "#fb9f3a"
             ],
             [
              0.8888888888888888,
              "#fdca26"
             ],
             [
              1.0,
              "#f0f921"
             ]
            ],
            "type": "histogram2dcontour"
           }
          ],
          "mesh3d": [
           {
            "colorbar": {
             "outlinewidth": 0,
             "ticks": ""
            },
            "type": "mesh3d"
           }
          ],
          "parcoords": [
           {
            "line": {
             "colorbar": {
              "outlinewidth": 0,
              "ticks": ""
             }
            },
            "type": "parcoords"
           }
          ],
          "scatter": [
           {
            "marker": {
             "colorbar": {
              "outlinewidth": 0,
              "ticks": ""
             }
            },
            "type": "scatter"
           }
          ],
          "scatter3d": [
           {
            "line": {
             "colorbar": {
              "outlinewidth": 0,
              "ticks": ""
             }
            },
            "marker": {
             "colorbar": {
              "outlinewidth": 0,
              "ticks": ""
             }
            },
            "type": "scatter3d"
           }
          ],
          "scattercarpet": [
           {
            "marker": {
             "colorbar": {
              "outlinewidth": 0,
              "ticks": ""
             }
            },
            "type": "scattercarpet"
           }
          ],
          "scattergeo": [
           {
            "marker": {
             "colorbar": {
              "outlinewidth": 0,
              "ticks": ""
             }
            },
            "type": "scattergeo"
           }
          ],
          "scattergl": [
           {
            "marker": {
             "colorbar": {
              "outlinewidth": 0,
              "ticks": ""
             }
            },
            "type": "scattergl"
           }
          ],
          "scattermapbox": [
           {
            "marker": {
             "colorbar": {
              "outlinewidth": 0,
              "ticks": ""
             }
            },
            "type": "scattermapbox"
           }
          ],
          "scatterpolar": [
           {
            "marker": {
             "colorbar": {
              "outlinewidth": 0,
              "ticks": ""
             }
            },
            "type": "scatterpolar"
           }
          ],
          "scatterpolargl": [
           {
            "marker": {
             "colorbar": {
              "outlinewidth": 0,
              "ticks": ""
             }
            },
            "type": "scatterpolargl"
           }
          ],
          "scatterternary": [
           {
            "marker": {
             "colorbar": {
              "outlinewidth": 0,
              "ticks": ""
             }
            },
            "type": "scatterternary"
           }
          ],
          "surface": [
           {
            "colorbar": {
             "outlinewidth": 0,
             "ticks": ""
            },
            "colorscale": [
             [
              0.0,
              "#0d0887"
             ],
             [
              0.1111111111111111,
              "#46039f"
             ],
             [
              0.2222222222222222,
              "#7201a8"
             ],
             [
              0.3333333333333333,
              "#9c179e"
             ],
             [
              0.4444444444444444,
              "#bd3786"
             ],
             [
              0.5555555555555556,
              "#d8576b"
             ],
             [
              0.6666666666666666,
              "#ed7953"
             ],
             [
              0.7777777777777778,
              "#fb9f3a"
             ],
             [
              0.8888888888888888,
              "#fdca26"
             ],
             [
              1.0,
              "#f0f921"
             ]
            ],
            "type": "surface"
           }
          ],
          "table": [
           {
            "cells": {
             "fill": {
              "color": "#EBF0F8"
             },
             "line": {
              "color": "white"
             }
            },
            "header": {
             "fill": {
              "color": "#C8D4E3"
             },
             "line": {
              "color": "white"
             }
            },
            "type": "table"
           }
          ]
         },
         "layout": {
          "annotationdefaults": {
           "arrowcolor": "#2a3f5f",
           "arrowhead": 0,
           "arrowwidth": 1
          },
          "colorscale": {
           "diverging": [
            [
             0,
             "#8e0152"
            ],
            [
             0.1,
             "#c51b7d"
            ],
            [
             0.2,
             "#de77ae"
            ],
            [
             0.3,
             "#f1b6da"
            ],
            [
             0.4,
             "#fde0ef"
            ],
            [
             0.5,
             "#f7f7f7"
            ],
            [
             0.6,
             "#e6f5d0"
            ],
            [
             0.7,
             "#b8e186"
            ],
            [
             0.8,
             "#7fbc41"
            ],
            [
             0.9,
             "#4d9221"
            ],
            [
             1,
             "#276419"
            ]
           ],
           "sequential": [
            [
             0.0,
             "#0d0887"
            ],
            [
             0.1111111111111111,
             "#46039f"
            ],
            [
             0.2222222222222222,
             "#7201a8"
            ],
            [
             0.3333333333333333,
             "#9c179e"
            ],
            [
             0.4444444444444444,
             "#bd3786"
            ],
            [
             0.5555555555555556,
             "#d8576b"
            ],
            [
             0.6666666666666666,
             "#ed7953"
            ],
            [
             0.7777777777777778,
             "#fb9f3a"
            ],
            [
             0.8888888888888888,
             "#fdca26"
            ],
            [
             1.0,
             "#f0f921"
            ]
           ],
           "sequentialminus": [
            [
             0.0,
             "#0d0887"
            ],
            [
             0.1111111111111111,
             "#46039f"
            ],
            [
             0.2222222222222222,
             "#7201a8"
            ],
            [
             0.3333333333333333,
             "#9c179e"
            ],
            [
             0.4444444444444444,
             "#bd3786"
            ],
            [
             0.5555555555555556,
             "#d8576b"
            ],
            [
             0.6666666666666666,
             "#ed7953"
            ],
            [
             0.7777777777777778,
             "#fb9f3a"
            ],
            [
             0.8888888888888888,
             "#fdca26"
            ],
            [
             1.0,
             "#f0f921"
            ]
           ]
          },
          "colorway": [
           "#636efa",
           "#EF553B",
           "#00cc96",
           "#ab63fa",
           "#FFA15A",
           "#19d3f3",
           "#FF6692",
           "#B6E880",
           "#FF97FF",
           "#FECB52"
          ],
          "font": {
           "color": "#2a3f5f"
          },
          "geo": {
           "bgcolor": "white",
           "lakecolor": "white",
           "landcolor": "#E5ECF6",
           "showlakes": true,
           "showland": true,
           "subunitcolor": "white"
          },
          "hoverlabel": {
           "align": "left"
          },
          "hovermode": "closest",
          "mapbox": {
           "style": "light"
          },
          "paper_bgcolor": "white",
          "plot_bgcolor": "#E5ECF6",
          "polar": {
           "angularaxis": {
            "gridcolor": "white",
            "linecolor": "white",
            "ticks": ""
           },
           "bgcolor": "#E5ECF6",
           "radialaxis": {
            "gridcolor": "white",
            "linecolor": "white",
            "ticks": ""
           }
          },
          "scene": {
           "xaxis": {
            "backgroundcolor": "#E5ECF6",
            "gridcolor": "white",
            "gridwidth": 2,
            "linecolor": "white",
            "showbackground": true,
            "ticks": "",
            "zerolinecolor": "white"
           },
           "yaxis": {
            "backgroundcolor": "#E5ECF6",
            "gridcolor": "white",
            "gridwidth": 2,
            "linecolor": "white",
            "showbackground": true,
            "ticks": "",
            "zerolinecolor": "white"
           },
           "zaxis": {
            "backgroundcolor": "#E5ECF6",
            "gridcolor": "white",
            "gridwidth": 2,
            "linecolor": "white",
            "showbackground": true,
            "ticks": "",
            "zerolinecolor": "white"
           }
          },
          "shapedefaults": {
           "line": {
            "color": "#2a3f5f"
           }
          },
          "ternary": {
           "aaxis": {
            "gridcolor": "white",
            "linecolor": "white",
            "ticks": ""
           },
           "baxis": {
            "gridcolor": "white",
            "linecolor": "white",
            "ticks": ""
           },
           "bgcolor": "#E5ECF6",
           "caxis": {
            "gridcolor": "white",
            "linecolor": "white",
            "ticks": ""
           }
          },
          "title": {
           "x": 0.05
          },
          "xaxis": {
           "automargin": true,
           "gridcolor": "white",
           "linecolor": "white",
           "ticks": "",
           "zerolinecolor": "white",
           "zerolinewidth": 2
          },
          "yaxis": {
           "automargin": true,
           "gridcolor": "white",
           "linecolor": "white",
           "ticks": "",
           "zerolinecolor": "white",
           "zerolinewidth": 2
          }
         }
        },
        "title": {
         "text": "KMeans Clustering"
        },
        "width": 600,
        "xaxis": {
         "zeroline": false
        },
        "yaxis": {
         "zeroline": false
        }
       }
      },
      "text/html": [
       "<div>\n",
       "        \n",
       "        \n",
       "            <div id=\"91d45251-bb0f-4d2e-816d-470537cd4ca0\" class=\"plotly-graph-div\" style=\"height:600px; width:600px;\"></div>\n",
       "            <script type=\"text/javascript\">\n",
       "                require([\"plotly\"], function(Plotly) {\n",
       "                    window.PLOTLYENV=window.PLOTLYENV || {};\n",
       "                    \n",
       "                if (document.getElementById(\"91d45251-bb0f-4d2e-816d-470537cd4ca0\")) {\n",
       "                    Plotly.newPlot(\n",
       "                        '91d45251-bb0f-4d2e-816d-470537cd4ca0',\n",
       "                        [{\"hoverinfo\": \"text\", \"marker\": {\"color\": [4, 3, 0, 0, 2, 0, 2, 0, 0, 2, 2, 3, 2, 4, 3, 3, 3, 2, 0, 3, 0, 0, 2, 1, 3, 0, 0, 2, 3, 3, 2, 2, 4, 2, 2, 3, 2, 2, 2, 1, 4, 4, 4, 3, 3, 2, 1, 1, 2, 2, 3, 2, 3, 0, 0, 4, 2, 0, 2, 2, 2, 3, 4, 2, 2, 3, 3, 4, 0, 3, 1, 1, 4, 2, 2, 2, 2, 2, 0, 4, 2, 3, 2, 0, 2, 4, 2, 4, 2, 3, 2, 4, 4, 2, 4, 4, 3, 2, 4, 2, 2, 4, 1, 1, 3, 0, 3, 0, 4, 0, 3, 2, 2, 4, 0, 2, 2, 0, 3, 0, 0, 0, 3, 3, 2, 0, 2, 4, 0, 0, 3, 4, 2, 0, 0, 4, 2, 4, 4, 1, 0, 2, 4, 0, 3, 0, 3, 0, 3, 0, 4, 2, 0, 2, 2, 0, 3, 2, 2, 4, 0, 4, 2, 4, 2, 4, 4, 3, 0, 0, 2, 0, 1, 0, 0, 0, 2, 2, 4, 3, 0, 4, 4, 3, 4, 2, 0, 0, 2, 2, 3, 3], \"colorscale\": [[0.0, \"rgb(12,51,131)\"], [0.25, \"rgb(10,136,186)\"], [0.5, \"rgb(242,211,56)\"], [0.75, \"rgb(242,143,56)\"], [1.0, \"rgb(217,30,30)\"]], \"line\": {\"color\": \"rgb(255, 255, 255)\", \"width\": 2}, \"showscale\": false, \"size\": 8}, \"mode\": \"markers\", \"showlegend\": false, \"text\": [\"Gebratener Hasenr\\u00fccken\", \"Pilz Stroganoff\", \"Kaninchen a la Gioff\", \"Spanisches Knoblauch-Kaninchen\", \"Gnocchi - Hack - Pfanne mit Basilikum\", \"Spaghetti Siracusani\", \"Rehr\\u00fccken in Salzkruste mit Waldpilzgulasch\", \"Eier in Senfsauce\", \"\\u00c4ppelufflaaf mett Woi\", \"Gef\\u00fcllte Schinkenr\\u00f6llchen\", \"Leichtes Mittagessen\", \"Herzhafte Pfannkuchen\", \"Raizenkarpfen\", \"Bulgur Buddha Bowl\", \"\\u00dcberbackene Rigatoni in Schinken-Sahne-So\\u00dfe\", \"Gittas Schmorgurken\", \"Griechische Hackfleischquiche\", \"Kartoffelgratin mit Cheddar\", \"Sahne-Kr\\u00e4uter-H\\u00e4hnchen\", \"Rotbarschfilet auf p\\u00fcrierten Tomaten mit Zucchini - Mozzarellahaube\", \"Bayerische Schinkennudeln\", \"S\\u00fc\\u00dfe Schupfnudeln\", \"K\\u00fcrbis - Quiche\", \"Mit Hackfleisch gef\\u00fcllte Zucchini\", \"Fegato di Vitello alla Paesana\", \"T\\u00fcrkische Pide mit K\\u00e4se und Sucuk\", \"Entenkeulen \\u00e0 la bourguignonne\", \"Chili sin Carne\", \"K\\u00fcrbis-Orangen-Waffeln\", \"Deftiger Rehr\\u00fccken\", \"Kritharaki-Salat mit Hackfleisch\", \"Nannis Reisauflauf\", \"Rosmarin-Balsamico-Schweinefilet\", \"Indischer Linseneintopf\", \"B\\u00f6hmisches Gulasch\", \"Krautwickel mit Knackwurstf\\u00fcllung\", \"Pangasiusfilet auf Ratatouille\", \"Kartoffel-Parmesan Puffer\", \"Kartoffelsalat mit Hackb\\u00e4llchen\", \"Hirsesalat\", \"Fischsuppe\", \"Kartoffelsuppe mit W\\u00fcrstchen\", \"Schweineschnitzel unter B\\u00e4rlauch-Cornflakes Haube\", \"Gef\\u00fcllte Paprika mit Hackfleisch und Reis\", \"Gef\\u00fcllte Koteletts\", \"Fladenbrotpizza \\\"Napoli\\\"\", \"Putenspie\\u00dfe mit Schafk\\u00e4sesauce\", \"Makkaroni in Tomatensahneso\\u00dfe\", \"H\\u00e4hnchenschlegel mit B\\u00e4rlauchkruste\", \"Schweinefilet Normandie\", \"Gem\\u00fcsepfanne mit Leberk\\u00e4se\", \"Gebratener gr\\u00fcner Spargel mit Kirschtomaten und Kart\\u00f6ffelchen\", \"Chilinudeln mit Cashewn\\u00fcssen\", \"B\\u00e4ckerofen aus dem Elsa\\u00df\", \"Gef\\u00fcllte Erd\\u00e4pfel\", \"New York Club Sandwich\", \"K\\u00f6lner Neujahrskarpfen\", \"B\\u00f6rek\", \"Reiberdatschi\", \"Klassisches J\\u00e4gerschnitzel\", \"Yufka mit Gem\\u00fcse- und Rindfleischf\\u00fcllung\", \"Hackkl\\u00f6\\u00dfe in Curry - Sahneso\\u00dfe\", \"Rehkeule mit Brat\\u00e4pfel\", \"S\\u00e4chsische Kartoffelsuppe - vegane Variante\", \"Kalbsschnitzel mit Zitrone und Kapern\", \"Wirsing - Quiche\", \"Gefl\\u00fcgelsalat\", \"Pangasius aus dem Pergament\", \"Gyrosschichtbraten\", \"Schinken-Hack-Rouladen\", \"Bohnensuppe mit Rippchen\", \"Fischst\\u00e4bchenspie\\u00dfe zum Grillen und Braten\", \"Eier - Rouladen\", \"Hirsch - Medaillons in Pfeffersauce\", \"Flammkuchen mit Ziegenk\\u00e4se, Rosmarin und Honig\", \"Risotto vom Fisch\", \"Geschichtetes Kraut\", \"Blumenkohlauflauf mit Hackfleisch und Kartoffelbrei\", \"Knusperscholle\", \"Hirsepfannkuchen mit Spinatf\\u00fcllung\", \"Gebratener Spargel mit B\\u00e4rlauch\", \"Frittierter Fisch mit Erdbeer - Meerrettich\", \"Baltimore Krabben\", \"Lachs ged\\u00e4mpft\", \"Himmlischer Sauerkrautauflauf\", \"Rotbarsch mit Petersilienschaum\", \"Rohrnudeln\", \"Rosenkohlsuppe mit Cabanossi und Basilikum\", \"Apfel-Pfannkuchen\", \"Matjesfilets mit Bratkartoffeln\", \"Orientalische Zucchini-Zwiebel-Pfanne mit Bulgur\", \"Miris feine Knoblauchspaghetti\", \"'Z\\u00fcri Gschn\\u00e4tzlets' mit R\\u00f6sti\", \"Kleine Kartoffelgratins mit K\\u00e4sechips\", \"Gr\\u00fcnkernrolle mit Paprikaso\\u00dfe\", \"Kohl mit Kartoffeln\", \"Kohlrabi-Risotto mit Pinienkernen\", \"Frutti di Mare in Paprikaschoten Buzuluk\", \"Bautzener Topfs\\u00fclze\", \"Schneller Schwarzwurzel-Auflauf\", \"Tandoori H\\u00e4hnchenspie\\u00dfe\", \"Milchsuppe s\\u00fc\\u00df\", \"S\\u00e4chsische Kartoffelsuppe\", \"Gong Bao Chicken\", \"Tomaten-Spinat-Pasta\", \"Japanische Steakrollen\", \"Couscoussalat mit Rosinen und Minze\", \"Am Spie\\u00df gebratenes Schweinefleisch mit Malzextrakt\", \"Lammr\\u00fccken im Kr\\u00e4utermantel\", \"Lachsfilet auf Rahmwirsing\", \"Debreciner vom Rost\", \"Dinkelsalat\", \"Steirische Apfelspatzen\", \"H\\u00e4hnchen-Zucchini-Geschnetzeltes mit Kokosmilch\", \"Spaghetti-Auflauf mit Speck\", \"Spare Ribs\", \"Pikant gef\\u00fcllte Knackw\\u00fcrste\", \"Tarte au Ratatouille\", \"Fischsuppe S\\u00e8teois\", \"Schwarzwurzel - Auflauf mit Kasseler\", \"Gulaschsuppe\", \"K\\u00fcrbisquiche mit eingelegtem K\\u00fcrbis und Gorgonzola\", \"In Rotwein geschmorte Kaninchenkeulen mit Sp\\u00e4tzle\", \"Estragon - Braten\", \"Fenchel - Tomaten - Spagetti\", \"Pasta estiva\", \"Nudeln mit Mascarpone und R\\u00e4ucherspeck\", \"Pierogi\", \"Krautsuppe\", \"Erdbeerreis\", \"Gratin vom Blumenkohl\", \"Albertos Risoni\", \"Gef\\u00fcllte Buchteln mit Fr\\u00fchlingssalat\", \"Monkey-Burger\", \"Caesar Salad\", \"Linsensuppe \\u00e0 la Mama\", \"Matjes in Curry - Sahne\", \"Apfel - Reis - Auflauf\", \"Tomaten-Zucchini-Pfanne mit Feta\", \"Argentinisches Rinderh\\u00fcftsteak mit gr\\u00fcnen Bohnen, Pfeffer - Sahne - Sauce, Bratkartoffeln\", \"Eckis italienischer Nudelsalat mit Pesto\", \"Hackbraten mit Kartoffeln in Sahne\", \"Makkaroni al Yei\", \"Kartoffelsuppe\", \"Bratb\\u00e4llchen in Schmorgurken - Pfanne\", \"Matjes nach Friesin Art\", \"Medaillons vom Reh an Preiselbeerjus\", \"Paprikakoteletts\", \"Wokpfanne nach Szechuanart\", \"Schweinefilet mit buntem Salat\", \"Fisch in Sauerampfer\", \"Schwarzwurzeln in Schinken\", \"Couscous-Salat mit Gem\\u00fcse und Minze\", \"Reibekuchen nach Opas Art\", \"Chop Suey f\\u00fcr Figurbewusste\", \"Tomaten-Zucchini-Spaghetti\", \"Zucchinieintopf mit Graupen und Tomaten\", \"Fischfilet-Gratin mit Porree und Tomaten\", \"Fenchel-Fisch-Auflauf\", \"Topfenstrudel mit Fr\\u00fcchten\", \"\\u00dcberbackenes Schnitzel\", \"Kr\\u00e4uter-Putenbraten auf Fr\\u00fchlingsgem\\u00fcse\", \"Tagliatelle mit Leber und Salbei\", \"Erbsensuppe mit Frischk\\u00e4se und gekochtem Schinken\", \"Lachsfilet mit Kartoffel-K\\u00e4sekruste\", \"Bolognese vegan\", \"Arabischer Sch\\u00e4ferspie\\u00df\", \"Raclette-Reste Auflauf\", \"Fleischtopf mit Knoblauch\", \"Kaninchenkeulen mit Wei\\u00dfwein und Oliven\", \"Amselfelder Pfannkuchen\", \"Fruchtiges Curry - Geschnetzeltes\", \"Gef\\u00fcllter Lammbraten mit Gem\\u00fcse\", \"Bacon-Lamm mit B\\u00e4rlauchrisotto\", \"Fischertopf\", \"Schwammerl-Nudel-Pfanne\", \"H\\u00e4hnchenbrustfilet in Rhabarber - Rahmsauce\", \"Forellen - Saltimbocca mit gebratenem Gem\\u00fcse\", \"Obst-Schnitzel-Grillspie\\u00dfe\", \"Buttermilch - Walnuss - Salat mit Pellkartoffeln\", \"Gekr\\u00e4uterte Lammlachse\", \"Davids Bauernfr\\u00fchst\\u00fcck\", \"Serbischer Paprikaeintopf\", \"S\\u00fc\\u00dfkartoffeln mit mariniertem H\\u00e4hnchen\", \"Schweinelendchen in Sahne - Calvados - Sauce\", \"Nudelauflauf mit H\\u00e4hnchen und Ananas\", \"Friedhelms Pfannkuchen\", \"Geschnetzeltes Putenfleisch mit M\\u00f6hren und Fr\\u00fchlingszwiebeln\", \"Saftiger Putenbraten mit Gem\\u00fcse \\u00e0 la Provence\", \"Bandnudeln mit Rosenkohl\", \"Tortellini alla panna\", \"Thunfisch - Nudel - Auflauf\"], \"type\": \"scatter\", \"x\": [0.0158775231964801, -0.19125931672176613, 0.26472339067771933, -0.07033134109558747, 0.057873193817336376, 0.2394101731066948, 0.021059238303894327, -0.006655383496445153, 0.3154859694710955, -0.022747204264769713, 0.09009757965730578, -0.08378305665940458, -0.15158894184372512, -0.012960982467751774, 0.015919328694175092, -0.16886773247646836, 0.07494867444630492, -0.04776449671702164, 0.29651439077422515, -0.15747072928490413, 0.20031628007746521, 0.2503099618529119, 0.10043575145688838, -0.0983871425516934, -0.04805124294484205, 0.2118007486255774, 0.24096960086036395, -0.06901799007185021, 0.024322161572873417, -0.09496918035523556, 0.13196199759680918, 0.03809927466903629, -0.2377618465209684, -0.012791350236242997, -0.0746713108237187, 0.014892653160380761, -0.05180658434603723, -0.08369821185866151, -0.11744018978792513, -0.0725363398547898, -0.087093735906113, -0.07088418648941741, -0.16411522882764484, -0.16913642291236014, -0.027466877431673968, -0.021756589611640238, -0.029691189225282622, -0.03266754195969951, -0.030477378625848255, 0.06039500319390821, -0.2569383479421046, 0.08858423987319357, -0.14000807786863773, 0.10394505991667967, 0.25652241940054993, -0.14000653635315025, 0.2506747113547276, 0.3062006263458021, 0.025876722556555275, 0.12688268212410947, -0.0686677072070417, -0.018361294769739685, -0.2773418233067302, -0.08499455661206494, -0.10840739398550212, -0.05203284891278087, 0.018481339919191982, -0.2298769308265282, 0.16707149147572323, 0.0968277957087841, -0.0983871425516934, -0.12927947372954915, -0.1598267964629463, 0.03228346196008923, -0.011076126673684399, -0.057547744919013204, 0.253814482820722, -0.01425289645687054, 0.17924925663620656, -0.228205077930132, -0.016225016919181386, -0.23556608796422654, 0.20139476682710547, 0.030256180685674275, 0.028133997871473523, -0.02834269354514653, 0.03550768683200351, -0.060124464845114106, 0.1493302718752899, -0.01154550051992486, 0.10505171958380251, 0.08295056155280207, -0.20012064414833564, -0.02335434004595508, -0.023640437240829003, -0.07974815580697202, -0.20303246759285085, 0.040640811741047826, -0.01764768693636007, -0.010987744369624365, 0.051448819904577066, 0.09247254183239302, -0.10781090060098693, -0.07630109415572213, -0.30644233577531355, 0.39075130696920934, -0.21039009637193087, 0.290453321593901, -0.036231763348857804, -0.01031923019323656, -0.09012123722022149, 0.05009386642392659, -0.15185682821053054, -0.13273093684223614, 0.19222316267677586, -0.047348069074832695, -0.11692063130975784, 0.13367953356141762, -0.02796953612249878, 0.21775062738508252, 0.025975962166716042, 0.05556096827339679, 0.05197505284756613, 0.06742109111977593, -0.09149539271882651, 0.24221797271858475, -0.1307461629791649, -0.16884270766548962, 0.11261100089529309, 0.3238965213773158, -0.27071867601915167, -0.0217106255936222, -0.049026526076332316, 0.19244937722111824, 0.01099545313349165, -0.1176606197022728, -0.04459653639456498, -0.17519714483092852, -0.029671665039207182, -0.1352171527403793, 0.37053596668902666, 0.05203621756284124, -0.1227850927329854, 0.17835501751171395, -0.00017758411607097577, 0.15249768761218252, 0.10345055325927485, 0.1866311710268257, -0.12812923093659917, 0.06826262524754471, -0.07815473988316236, 0.05812158793063956, -0.018071127756964147, 0.10474926294808637, -0.07191450816024836, 0.10006876077124204, -0.0026081470749443445, 0.02976317001424891, 0.1494623979942359, 0.008816632934727977, 0.05810294119545964, -0.1539455738432777, -0.08063244734634245, -0.2524440999622709, -0.12959781575517584, -0.18810739528975706, -0.07516629303764298, -0.07340108258464106, 0.07748638432748813, 0.3945672992163323, -0.0048001556521147185, -0.015267255349558856, -0.16992195935039595, -0.12033050882883638, 0.04290074523735106, 0.1864341231201068, -0.06356329387994432, -0.023581757961473947, -0.05235125960365589, -0.17948385204314204, -0.07810781175101891, -0.12827756623566175, -0.06969645177270672, -0.09317922053916673, -0.09184812461844377, -0.14134026761267468, 0.36313397016851967, 0.2510109147686516, 0.02024979215211722, 0.04018548192612705, 0.09642228391846033, -0.19070851542960482], \"y\": [0.20418796865321884, -0.12234606996123698, -0.17398444645680183, -0.031607276688236985, 0.01975744155734243, -0.08350702293314233, -0.11383515288068499, -0.11948813239202226, 0.09070247458433489, 0.3747752573850662, 0.1742827723967171, 0.089794576335336, -0.059278456513864965, -0.18968051442076284, 0.15993239182758612, -0.0016153295915483077, 0.009091448765735718, 0.1412575236873694, 0.0008967924576103239, 0.23381049258273476, -0.08655983036441008, 0.12556837617235367, -0.0061457618599907666, -0.19825021960857175, 0.0802473768112773, -0.2734172377314482, -0.023473957049169453, -0.08933629274094186, -0.040527384375786527, -0.019310070301518722, 0.13509042935732868, 0.07123017868280915, -0.21487897365034203, 0.026159676122019273, -0.004847017521648166, 0.22753720847058317, 0.25769459444949255, 0.30723414582621744, -0.06478536079145522, 0.0073926954883320505, -0.09345201543847934, 0.2073641792479549, -0.033430972497289706, 0.07631991154289586, 0.051763757029974634, -0.0012815003586497623, -0.11848914603114605, -0.15320418568915117, 0.009052773065412145, 0.20830459532637044, -0.023072529119615097, 0.11221059053873832, -0.07539174005084676, -0.16389194908646318, -0.22942927146228895, -0.19231295120421515, 0.10130475267094519, 0.17134213528122189, 0.22633653363980252, 0.07149771842040874, -0.003683774402840513, 0.13576827678142162, -0.1711850539352231, 0.3067149201890037, 0.14953895892347993, -0.0599691685632579, -0.1827825332442217, -0.1778444382412157, -0.17240408095990523, 0.12563466847433513, -0.19825021960857175, -0.06261472191127881, -0.16961233536688886, 0.2412694346847452, -0.023214953010817684, 0.07987362859576129, -0.02690806813440736, 0.06667315155333918, -0.04242532209126511, -0.10773064110913592, 0.09106910589809844, -0.13220304628704288, 0.12163549575132401, -0.01532566079987447, 0.2767241193442276, 0.24227128927731523, 0.18844002108982416, 0.034599483753131835, 0.3836462198873405, -0.05816636220534043, 0.10126451959962934, 0.08023077805546196, -0.08428327799480276, -0.01539973285793875, 0.23040309498927833, -0.0923252392182486, -0.11647275390941254, 0.21451079717394483, -0.02127097776353752, 0.17391766142496315, -0.14426704189220596, -0.06914015058969854, -0.1288885216028572, -0.15124194632754184, -0.17426343027845576, -0.028037295345445433, -0.09647753881111613, -0.0773910980180075, -0.1396303194205889, -0.2092369352950618, -0.0947102424556405, 0.08055025387965561, 0.06313482133992286, -0.05543663526044316, -0.0960644749025228, 0.13009119080975057, 0.028433108077453993, -0.1948723894033496, -0.05727816788360832, -0.060338903280716345, -0.08467830096683789, -0.04927779277942902, 0.05781131263924513, -0.11818692888810421, -0.012682528443867217, -0.18278656461855153, -0.07848274013897769, -0.08605295080137446, -0.04015193074315881, -0.2118922778887351, 0.03156708554023111, 0.005742491574843615, 0.2523449339305467, -0.2653752566675215, 0.1300410114338849, 0.031130611296386782, 0.014545595051716822, 0.21185938739466528, -0.2101569344182407, -0.03210091290583549, -0.2515634133635486, 0.015601676796761605, -0.17261938336115865, -0.0674898040276746, 0.009102267026773404, 0.1469711586077466, -0.005882560892188672, -0.20958837577424677, -0.011597933218965314, 0.0390627327215751, -0.078309277777314, 0.046056791254594706, 0.15344421139108635, 0.16397871956643184, -0.03792697401119425, -0.14066557335474975, -0.045138800373863676, 0.12426005778837014, 0.147976942343467, -0.0848463129561417, -0.07898761262971836, 0.09876455326247359, 0.042280077361410255, -0.0462062392116558, 0.11359885077394438, -0.005725329801423983, -0.020335868738472148, -0.20134766133438392, -0.09786774545533893, -0.25126409686971163, 0.2019357995651807, 0.09016902890676358, -0.11496477322765608, -0.14958610967075803, -0.08969348328996125, -0.11982801292396317, 0.25888577249099426, 0.15726514337530303, -0.12122980812416317, 0.044763523953075396, -0.120661615872402, 0.04248626058071155, -0.03416871904682736, 0.14244740738493095, -0.09306755532249121, 0.022671860635633645, 0.10749922975520901, -0.09358417270908327, 0.15981436639522212, 0.19326867966797212, 0.13744788351584733, -0.08518063815969046]}],\n",
       "                        {\"height\": 600, \"hovermode\": \"closest\", \"showlegend\": false, \"template\": {\"data\": {\"bar\": [{\"error_x\": {\"color\": \"#2a3f5f\"}, \"error_y\": {\"color\": \"#2a3f5f\"}, \"marker\": {\"line\": {\"color\": \"#E5ECF6\", \"width\": 0.5}}, \"type\": \"bar\"}], \"barpolar\": [{\"marker\": {\"line\": {\"color\": \"#E5ECF6\", \"width\": 0.5}}, \"type\": \"barpolar\"}], \"carpet\": [{\"aaxis\": {\"endlinecolor\": \"#2a3f5f\", \"gridcolor\": \"white\", \"linecolor\": \"white\", \"minorgridcolor\": \"white\", \"startlinecolor\": \"#2a3f5f\"}, \"baxis\": {\"endlinecolor\": \"#2a3f5f\", \"gridcolor\": \"white\", \"linecolor\": \"white\", \"minorgridcolor\": \"white\", \"startlinecolor\": \"#2a3f5f\"}, \"type\": \"carpet\"}], \"choropleth\": [{\"colorbar\": {\"outlinewidth\": 0, \"ticks\": \"\"}, \"type\": \"choropleth\"}], \"contour\": [{\"colorbar\": {\"outlinewidth\": 0, \"ticks\": \"\"}, \"colorscale\": [[0.0, \"#0d0887\"], [0.1111111111111111, \"#46039f\"], [0.2222222222222222, \"#7201a8\"], [0.3333333333333333, \"#9c179e\"], [0.4444444444444444, \"#bd3786\"], [0.5555555555555556, \"#d8576b\"], [0.6666666666666666, \"#ed7953\"], [0.7777777777777778, \"#fb9f3a\"], [0.8888888888888888, \"#fdca26\"], [1.0, \"#f0f921\"]], \"type\": \"contour\"}], \"contourcarpet\": [{\"colorbar\": {\"outlinewidth\": 0, \"ticks\": \"\"}, \"type\": \"contourcarpet\"}], \"heatmap\": [{\"colorbar\": {\"outlinewidth\": 0, \"ticks\": \"\"}, \"colorscale\": [[0.0, \"#0d0887\"], [0.1111111111111111, \"#46039f\"], [0.2222222222222222, \"#7201a8\"], [0.3333333333333333, \"#9c179e\"], [0.4444444444444444, \"#bd3786\"], [0.5555555555555556, \"#d8576b\"], [0.6666666666666666, \"#ed7953\"], [0.7777777777777778, \"#fb9f3a\"], [0.8888888888888888, \"#fdca26\"], [1.0, \"#f0f921\"]], \"type\": \"heatmap\"}], \"heatmapgl\": [{\"colorbar\": {\"outlinewidth\": 0, \"ticks\": \"\"}, \"colorscale\": [[0.0, \"#0d0887\"], [0.1111111111111111, \"#46039f\"], [0.2222222222222222, \"#7201a8\"], [0.3333333333333333, \"#9c179e\"], [0.4444444444444444, \"#bd3786\"], [0.5555555555555556, \"#d8576b\"], [0.6666666666666666, \"#ed7953\"], [0.7777777777777778, \"#fb9f3a\"], [0.8888888888888888, \"#fdca26\"], [1.0, \"#f0f921\"]], \"type\": \"heatmapgl\"}], \"histogram\": [{\"marker\": {\"colorbar\": {\"outlinewidth\": 0, \"ticks\": \"\"}}, \"type\": \"histogram\"}], \"histogram2d\": [{\"colorbar\": {\"outlinewidth\": 0, \"ticks\": \"\"}, \"colorscale\": [[0.0, \"#0d0887\"], [0.1111111111111111, \"#46039f\"], [0.2222222222222222, \"#7201a8\"], [0.3333333333333333, \"#9c179e\"], [0.4444444444444444, \"#bd3786\"], [0.5555555555555556, \"#d8576b\"], [0.6666666666666666, \"#ed7953\"], [0.7777777777777778, \"#fb9f3a\"], [0.8888888888888888, \"#fdca26\"], [1.0, \"#f0f921\"]], \"type\": \"histogram2d\"}], \"histogram2dcontour\": [{\"colorbar\": {\"outlinewidth\": 0, \"ticks\": \"\"}, \"colorscale\": [[0.0, \"#0d0887\"], [0.1111111111111111, \"#46039f\"], [0.2222222222222222, \"#7201a8\"], [0.3333333333333333, \"#9c179e\"], [0.4444444444444444, \"#bd3786\"], [0.5555555555555556, \"#d8576b\"], [0.6666666666666666, \"#ed7953\"], [0.7777777777777778, \"#fb9f3a\"], [0.8888888888888888, \"#fdca26\"], [1.0, \"#f0f921\"]], \"type\": \"histogram2dcontour\"}], \"mesh3d\": [{\"colorbar\": {\"outlinewidth\": 0, \"ticks\": \"\"}, \"type\": \"mesh3d\"}], \"parcoords\": [{\"line\": {\"colorbar\": {\"outlinewidth\": 0, \"ticks\": \"\"}}, \"type\": \"parcoords\"}], \"scatter\": [{\"marker\": {\"colorbar\": {\"outlinewidth\": 0, \"ticks\": \"\"}}, \"type\": \"scatter\"}], \"scatter3d\": [{\"line\": {\"colorbar\": {\"outlinewidth\": 0, \"ticks\": \"\"}}, \"marker\": {\"colorbar\": {\"outlinewidth\": 0, \"ticks\": \"\"}}, \"type\": \"scatter3d\"}], \"scattercarpet\": [{\"marker\": {\"colorbar\": {\"outlinewidth\": 0, \"ticks\": \"\"}}, \"type\": \"scattercarpet\"}], \"scattergeo\": [{\"marker\": {\"colorbar\": {\"outlinewidth\": 0, \"ticks\": \"\"}}, \"type\": \"scattergeo\"}], \"scattergl\": [{\"marker\": {\"colorbar\": {\"outlinewidth\": 0, \"ticks\": \"\"}}, \"type\": \"scattergl\"}], \"scattermapbox\": [{\"marker\": {\"colorbar\": {\"outlinewidth\": 0, \"ticks\": \"\"}}, \"type\": \"scattermapbox\"}], \"scatterpolar\": [{\"marker\": {\"colorbar\": {\"outlinewidth\": 0, \"ticks\": \"\"}}, \"type\": \"scatterpolar\"}], \"scatterpolargl\": [{\"marker\": {\"colorbar\": {\"outlinewidth\": 0, \"ticks\": \"\"}}, \"type\": \"scatterpolargl\"}], \"scatterternary\": [{\"marker\": {\"colorbar\": {\"outlinewidth\": 0, \"ticks\": \"\"}}, \"type\": \"scatterternary\"}], \"surface\": [{\"colorbar\": {\"outlinewidth\": 0, \"ticks\": \"\"}, \"colorscale\": [[0.0, \"#0d0887\"], [0.1111111111111111, \"#46039f\"], [0.2222222222222222, \"#7201a8\"], [0.3333333333333333, \"#9c179e\"], [0.4444444444444444, \"#bd3786\"], [0.5555555555555556, \"#d8576b\"], [0.6666666666666666, \"#ed7953\"], [0.7777777777777778, \"#fb9f3a\"], [0.8888888888888888, \"#fdca26\"], [1.0, \"#f0f921\"]], \"type\": \"surface\"}], \"table\": [{\"cells\": {\"fill\": {\"color\": \"#EBF0F8\"}, \"line\": {\"color\": \"white\"}}, \"header\": {\"fill\": {\"color\": \"#C8D4E3\"}, \"line\": {\"color\": \"white\"}}, \"type\": \"table\"}]}, \"layout\": {\"annotationdefaults\": {\"arrowcolor\": \"#2a3f5f\", \"arrowhead\": 0, \"arrowwidth\": 1}, \"colorscale\": {\"diverging\": [[0, \"#8e0152\"], [0.1, \"#c51b7d\"], [0.2, \"#de77ae\"], [0.3, \"#f1b6da\"], [0.4, \"#fde0ef\"], [0.5, \"#f7f7f7\"], [0.6, \"#e6f5d0\"], [0.7, \"#b8e186\"], [0.8, \"#7fbc41\"], [0.9, \"#4d9221\"], [1, \"#276419\"]], \"sequential\": [[0.0, \"#0d0887\"], [0.1111111111111111, \"#46039f\"], [0.2222222222222222, \"#7201a8\"], [0.3333333333333333, \"#9c179e\"], [0.4444444444444444, \"#bd3786\"], [0.5555555555555556, \"#d8576b\"], [0.6666666666666666, \"#ed7953\"], [0.7777777777777778, \"#fb9f3a\"], [0.8888888888888888, \"#fdca26\"], [1.0, \"#f0f921\"]], \"sequentialminus\": [[0.0, \"#0d0887\"], [0.1111111111111111, \"#46039f\"], [0.2222222222222222, \"#7201a8\"], [0.3333333333333333, \"#9c179e\"], [0.4444444444444444, \"#bd3786\"], [0.5555555555555556, \"#d8576b\"], [0.6666666666666666, \"#ed7953\"], [0.7777777777777778, \"#fb9f3a\"], [0.8888888888888888, \"#fdca26\"], [1.0, \"#f0f921\"]]}, \"colorway\": [\"#636efa\", \"#EF553B\", \"#00cc96\", \"#ab63fa\", \"#FFA15A\", \"#19d3f3\", \"#FF6692\", \"#B6E880\", \"#FF97FF\", \"#FECB52\"], \"font\": {\"color\": \"#2a3f5f\"}, \"geo\": {\"bgcolor\": \"white\", \"lakecolor\": \"white\", \"landcolor\": \"#E5ECF6\", \"showlakes\": true, \"showland\": true, \"subunitcolor\": \"white\"}, \"hoverlabel\": {\"align\": \"left\"}, \"hovermode\": \"closest\", \"mapbox\": {\"style\": \"light\"}, \"paper_bgcolor\": \"white\", \"plot_bgcolor\": \"#E5ECF6\", \"polar\": {\"angularaxis\": {\"gridcolor\": \"white\", \"linecolor\": \"white\", \"ticks\": \"\"}, \"bgcolor\": \"#E5ECF6\", \"radialaxis\": {\"gridcolor\": \"white\", \"linecolor\": \"white\", \"ticks\": \"\"}}, \"scene\": {\"xaxis\": {\"backgroundcolor\": \"#E5ECF6\", \"gridcolor\": \"white\", \"gridwidth\": 2, \"linecolor\": \"white\", \"showbackground\": true, \"ticks\": \"\", \"zerolinecolor\": \"white\"}, \"yaxis\": {\"backgroundcolor\": \"#E5ECF6\", \"gridcolor\": \"white\", \"gridwidth\": 2, \"linecolor\": \"white\", \"showbackground\": true, \"ticks\": \"\", \"zerolinecolor\": \"white\"}, \"zaxis\": {\"backgroundcolor\": \"#E5ECF6\", \"gridcolor\": \"white\", \"gridwidth\": 2, \"linecolor\": \"white\", \"showbackground\": true, \"ticks\": \"\", \"zerolinecolor\": \"white\"}}, \"shapedefaults\": {\"line\": {\"color\": \"#2a3f5f\"}}, \"ternary\": {\"aaxis\": {\"gridcolor\": \"white\", \"linecolor\": \"white\", \"ticks\": \"\"}, \"baxis\": {\"gridcolor\": \"white\", \"linecolor\": \"white\", \"ticks\": \"\"}, \"bgcolor\": \"#E5ECF6\", \"caxis\": {\"gridcolor\": \"white\", \"linecolor\": \"white\", \"ticks\": \"\"}}, \"title\": {\"x\": 0.05}, \"xaxis\": {\"automargin\": true, \"gridcolor\": \"white\", \"linecolor\": \"white\", \"ticks\": \"\", \"zerolinecolor\": \"white\", \"zerolinewidth\": 2}, \"yaxis\": {\"automargin\": true, \"gridcolor\": \"white\", \"linecolor\": \"white\", \"ticks\": \"\", \"zerolinecolor\": \"white\", \"zerolinewidth\": 2}}}, \"title\": {\"text\": \"KMeans Clustering\"}, \"width\": 600, \"xaxis\": {\"zeroline\": false}, \"yaxis\": {\"zeroline\": false}},\n",
       "                        {\"responsive\": true}\n",
       "                    ).then(function(){\n",
       "                            \n",
       "var gd = document.getElementById('91d45251-bb0f-4d2e-816d-470537cd4ca0');\n",
       "var x = new MutationObserver(function (mutations, observer) {{\n",
       "        var display = window.getComputedStyle(gd).display;\n",
       "        if (!display || display === 'none') {{\n",
       "            console.log([gd, 'removed!']);\n",
       "            Plotly.purge(gd);\n",
       "            observer.disconnect();\n",
       "        }}\n",
       "}});\n",
       "\n",
       "// Listen for the removal of the full notebook cells\n",
       "var notebookContainer = gd.closest('#notebook-container');\n",
       "if (notebookContainer) {{\n",
       "    x.observe(notebookContainer, {childList: true});\n",
       "}}\n",
       "\n",
       "// Listen for the clearing of the current output cell\n",
       "var outputEl = gd.closest('.output');\n",
       "if (outputEl) {{\n",
       "    x.observe(outputEl, {childList: true});\n",
       "}}\n",
       "\n",
       "                        })\n",
       "                };\n",
       "                });\n",
       "            </script>\n",
       "        </div>"
      ]
     },
     "metadata": {},
     "output_type": "display_data"
    }
   ],
   "source": [
    "#Plot K-means Clustering\n",
    "trace_Kmeans = go.Scatter(x=X[:, 0], y= X[:, 1], mode=\"markers\",\n",
    "                    showlegend=False,\n",
    "                    text = df['Name'],\n",
    "                    hoverinfo = 'text',\n",
    "                    marker=dict(\n",
    "                            size=8,\n",
    "                            color = clusters,\n",
    "                            colorscale = 'Portland',\n",
    "                            showscale=False, \n",
    "                            line = dict(\n",
    "            width = 2,\n",
    "            color = 'rgb(255, 255, 255)'\n",
    "        )\n",
    "                   ))\n",
    "layout = dict(title = 'KMeans Clustering',\n",
    "              hovermode= 'closest',\n",
    "              yaxis = dict(zeroline = False),\n",
    "              xaxis = dict(zeroline = False),\n",
    "              showlegend= False,\n",
    "              width=600,\n",
    "              height=600,\n",
    "             )\n",
    "\n",
    "data = [trace_Kmeans]\n",
    "fig1 = dict(data=data, layout= layout)\n",
    "# fig1.append_trace(contour_list)\n",
    "py.iplot(fig1, filename=\"svm\")"
   ]
  },
  {
   "cell_type": "markdown",
   "metadata": {},
   "source": [
    "**7.T-SNE**"
   ]
  },
  {
   "cell_type": "code",
   "execution_count": 15,
   "metadata": {},
   "outputs": [],
   "source": [
    "tsne = TSNE()\n",
    "tsne_results = tsne.fit_transform(tfidf_matrix.todense())"
   ]
  },
  {
   "cell_type": "code",
   "execution_count": 16,
   "metadata": {},
   "outputs": [
    {
     "data": {
      "application/vnd.plotly.v1+json": {
       "config": {
        "linkText": "Export to plot.ly",
        "plotlyServerURL": "https://plot.ly",
        "showLink": false
       },
       "data": [
        {
         "hoverinfo": "text",
         "marker": {
          "color": [
           4,
           3,
           0,
           0,
           2,
           0,
           2,
           0,
           0,
           2,
           2,
           3,
           2,
           4,
           3,
           3,
           3,
           2,
           0,
           3,
           0,
           0,
           2,
           1,
           3,
           0,
           0,
           2,
           3,
           3,
           2,
           2,
           4,
           2,
           2,
           3,
           2,
           2,
           2,
           1,
           4,
           4,
           4,
           3,
           3,
           2,
           1,
           1,
           2,
           2,
           3,
           2,
           3,
           0,
           0,
           4,
           2,
           0,
           2,
           2,
           2,
           3,
           4,
           2,
           2,
           3,
           3,
           4,
           0,
           3,
           1,
           1,
           4,
           2,
           2,
           2,
           2,
           2,
           0,
           4,
           2,
           3,
           2,
           0,
           2,
           4,
           2,
           4,
           2,
           3,
           2,
           4,
           4,
           2,
           4,
           4,
           3,
           2,
           4,
           2,
           2,
           4,
           1,
           1,
           3,
           0,
           3,
           0,
           4,
           0,
           3,
           2,
           2,
           4,
           0,
           2,
           2,
           0,
           3,
           0,
           0,
           0,
           3,
           3,
           2,
           0,
           2,
           4,
           0,
           0,
           3,
           4,
           2,
           0,
           0,
           4,
           2,
           4,
           4,
           1,
           0,
           2,
           4,
           0,
           3,
           0,
           3,
           0,
           3,
           0,
           4,
           2,
           0,
           2,
           2,
           0,
           3,
           2,
           2,
           4,
           0,
           4,
           2,
           4,
           2,
           4,
           4,
           3,
           0,
           0,
           2,
           0,
           1,
           0,
           0,
           0,
           2,
           2,
           4,
           3,
           0,
           4,
           4,
           3,
           4,
           2,
           0,
           0,
           2,
           2,
           3,
           3
          ],
          "colorscale": [
           [
            0.0,
            "rgb(12,51,131)"
           ],
           [
            0.25,
            "rgb(10,136,186)"
           ],
           [
            0.5,
            "rgb(242,211,56)"
           ],
           [
            0.75,
            "rgb(242,143,56)"
           ],
           [
            1.0,
            "rgb(217,30,30)"
           ]
          ],
          "line": {
           "color": "rgb(255, 255, 255)",
           "width": 2
          },
          "opacity": 0.8,
          "showscale": false,
          "size": 8
         },
         "mode": "markers",
         "showlegend": true,
         "text": [
          "Gebratener Hasenrücken",
          "Pilz Stroganoff",
          "Kaninchen a la Gioff",
          "Spanisches Knoblauch-Kaninchen",
          "Gnocchi - Hack - Pfanne mit Basilikum",
          "Spaghetti Siracusani",
          "Rehrücken in Salzkruste mit Waldpilzgulasch",
          "Eier in Senfsauce",
          "Äppelufflaaf mett Woi",
          "Gefüllte Schinkenröllchen",
          "Leichtes Mittagessen",
          "Herzhafte Pfannkuchen",
          "Raizenkarpfen",
          "Bulgur Buddha Bowl",
          "Überbackene Rigatoni in Schinken-Sahne-Soße",
          "Gittas Schmorgurken",
          "Griechische Hackfleischquiche",
          "Kartoffelgratin mit Cheddar",
          "Sahne-Kräuter-Hähnchen",
          "Rotbarschfilet auf pürierten Tomaten mit Zucchini - Mozzarellahaube",
          "Bayerische Schinkennudeln",
          "Süße Schupfnudeln",
          "Kürbis - Quiche",
          "Mit Hackfleisch gefüllte Zucchini",
          "Fegato di Vitello alla Paesana",
          "Türkische Pide mit Käse und Sucuk",
          "Entenkeulen à la bourguignonne",
          "Chili sin Carne",
          "Kürbis-Orangen-Waffeln",
          "Deftiger Rehrücken",
          "Kritharaki-Salat mit Hackfleisch",
          "Nannis Reisauflauf",
          "Rosmarin-Balsamico-Schweinefilet",
          "Indischer Linseneintopf",
          "Böhmisches Gulasch",
          "Krautwickel mit Knackwurstfüllung",
          "Pangasiusfilet auf Ratatouille",
          "Kartoffel-Parmesan Puffer",
          "Kartoffelsalat mit Hackbällchen",
          "Hirsesalat",
          "Fischsuppe",
          "Kartoffelsuppe mit Würstchen",
          "Schweineschnitzel unter Bärlauch-Cornflakes Haube",
          "Gefüllte Paprika mit Hackfleisch und Reis",
          "Gefüllte Koteletts",
          "Fladenbrotpizza \"Napoli\"",
          "Putenspieße mit Schafkäsesauce",
          "Makkaroni in Tomatensahnesoße",
          "Hähnchenschlegel mit Bärlauchkruste",
          "Schweinefilet Normandie",
          "Gemüsepfanne mit Leberkäse",
          "Gebratener grüner Spargel mit Kirschtomaten und Kartöffelchen",
          "Chilinudeln mit Cashewnüssen",
          "Bäckerofen aus dem Elsaß",
          "Gefüllte Erdäpfel",
          "New York Club Sandwich",
          "Kölner Neujahrskarpfen",
          "Börek",
          "Reiberdatschi",
          "Klassisches Jägerschnitzel",
          "Yufka mit Gemüse- und Rindfleischfüllung",
          "Hackklöße in Curry - Sahnesoße",
          "Rehkeule mit Bratäpfel",
          "Sächsische Kartoffelsuppe - vegane Variante",
          "Kalbsschnitzel mit Zitrone und Kapern",
          "Wirsing - Quiche",
          "Geflügelsalat",
          "Pangasius aus dem Pergament",
          "Gyrosschichtbraten",
          "Schinken-Hack-Rouladen",
          "Bohnensuppe mit Rippchen",
          "Fischstäbchenspieße zum Grillen und Braten",
          "Eier - Rouladen",
          "Hirsch - Medaillons in Pfeffersauce",
          "Flammkuchen mit Ziegenkäse, Rosmarin und Honig",
          "Risotto vom Fisch",
          "Geschichtetes Kraut",
          "Blumenkohlauflauf mit Hackfleisch und Kartoffelbrei",
          "Knusperscholle",
          "Hirsepfannkuchen mit Spinatfüllung",
          "Gebratener Spargel mit Bärlauch",
          "Frittierter Fisch mit Erdbeer - Meerrettich",
          "Baltimore Krabben",
          "Lachs gedämpft",
          "Himmlischer Sauerkrautauflauf",
          "Rotbarsch mit Petersilienschaum",
          "Rohrnudeln",
          "Rosenkohlsuppe mit Cabanossi und Basilikum",
          "Apfel-Pfannkuchen",
          "Matjesfilets mit Bratkartoffeln",
          "Orientalische Zucchini-Zwiebel-Pfanne mit Bulgur",
          "Miris feine Knoblauchspaghetti",
          "'Züri Gschnätzlets' mit Rösti",
          "Kleine Kartoffelgratins mit Käsechips",
          "Grünkernrolle mit Paprikasoße",
          "Kohl mit Kartoffeln",
          "Kohlrabi-Risotto mit Pinienkernen",
          "Frutti di Mare in Paprikaschoten Buzuluk",
          "Bautzener Topfsülze",
          "Schneller Schwarzwurzel-Auflauf",
          "Tandoori Hähnchenspieße",
          "Milchsuppe süß",
          "Sächsische Kartoffelsuppe",
          "Gong Bao Chicken",
          "Tomaten-Spinat-Pasta",
          "Japanische Steakrollen",
          "Couscoussalat mit Rosinen und Minze",
          "Am Spieß gebratenes Schweinefleisch mit Malzextrakt",
          "Lammrücken im Kräutermantel",
          "Lachsfilet auf Rahmwirsing",
          "Debreciner vom Rost",
          "Dinkelsalat",
          "Steirische Apfelspatzen",
          "Hähnchen-Zucchini-Geschnetzeltes mit Kokosmilch",
          "Spaghetti-Auflauf mit Speck",
          "Spare Ribs",
          "Pikant gefüllte Knackwürste",
          "Tarte au Ratatouille",
          "Fischsuppe Sèteois",
          "Schwarzwurzel - Auflauf mit Kasseler",
          "Gulaschsuppe",
          "Kürbisquiche mit eingelegtem Kürbis und Gorgonzola",
          "In Rotwein geschmorte Kaninchenkeulen mit Spätzle",
          "Estragon - Braten",
          "Fenchel - Tomaten - Spagetti",
          "Pasta estiva",
          "Nudeln mit Mascarpone und Räucherspeck",
          "Pierogi",
          "Krautsuppe",
          "Erdbeerreis",
          "Gratin vom Blumenkohl",
          "Albertos Risoni",
          "Gefüllte Buchteln mit Frühlingssalat",
          "Monkey-Burger",
          "Caesar Salad",
          "Linsensuppe à la Mama",
          "Matjes in Curry - Sahne",
          "Apfel - Reis - Auflauf",
          "Tomaten-Zucchini-Pfanne mit Feta",
          "Argentinisches Rinderhüftsteak mit grünen Bohnen, Pfeffer - Sahne - Sauce, Bratkartoffeln",
          "Eckis italienischer Nudelsalat mit Pesto",
          "Hackbraten mit Kartoffeln in Sahne",
          "Makkaroni al Yei",
          "Kartoffelsuppe",
          "Bratbällchen in Schmorgurken - Pfanne",
          "Matjes nach Friesin Art",
          "Medaillons vom Reh an Preiselbeerjus",
          "Paprikakoteletts",
          "Wokpfanne nach Szechuanart",
          "Schweinefilet mit buntem Salat",
          "Fisch in Sauerampfer",
          "Schwarzwurzeln in Schinken",
          "Couscous-Salat mit Gemüse und Minze",
          "Reibekuchen nach Opas Art",
          "Chop Suey für Figurbewusste",
          "Tomaten-Zucchini-Spaghetti",
          "Zucchinieintopf mit Graupen und Tomaten",
          "Fischfilet-Gratin mit Porree und Tomaten",
          "Fenchel-Fisch-Auflauf",
          "Topfenstrudel mit Früchten",
          "Überbackenes Schnitzel",
          "Kräuter-Putenbraten auf Frühlingsgemüse",
          "Tagliatelle mit Leber und Salbei",
          "Erbsensuppe mit Frischkäse und gekochtem Schinken",
          "Lachsfilet mit Kartoffel-Käsekruste",
          "Bolognese vegan",
          "Arabischer Schäferspieß",
          "Raclette-Reste Auflauf",
          "Fleischtopf mit Knoblauch",
          "Kaninchenkeulen mit Weißwein und Oliven",
          "Amselfelder Pfannkuchen",
          "Fruchtiges Curry - Geschnetzeltes",
          "Gefüllter Lammbraten mit Gemüse",
          "Bacon-Lamm mit Bärlauchrisotto",
          "Fischertopf",
          "Schwammerl-Nudel-Pfanne",
          "Hähnchenbrustfilet in Rhabarber - Rahmsauce",
          "Forellen - Saltimbocca mit gebratenem Gemüse",
          "Obst-Schnitzel-Grillspieße",
          "Buttermilch - Walnuss - Salat mit Pellkartoffeln",
          "Gekräuterte Lammlachse",
          "Davids Bauernfrühstück",
          "Serbischer Paprikaeintopf",
          "Süßkartoffeln mit mariniertem Hähnchen",
          "Schweinelendchen in Sahne - Calvados - Sauce",
          "Nudelauflauf mit Hähnchen und Ananas",
          "Friedhelms Pfannkuchen",
          "Geschnetzeltes Putenfleisch mit Möhren und Frühlingszwiebeln",
          "Saftiger Putenbraten mit Gemüse à la Provence",
          "Bandnudeln mit Rosenkohl",
          "Tortellini alla panna",
          "Thunfisch - Nudel - Auflauf"
         ],
         "type": "scatter",
         "x": [
          3.058026075363159,
          7.911050796508789,
          -14.06229305267334,
          -2.8581252098083496,
          -4.949029922485352,
          -10.821969985961914,
          -12.592000007629395,
          1.5978035926818848,
          9.051706314086914,
          2.042416572570801,
          5.810810089111328,
          -6.754082679748535,
          9.095623970031738,
          -10.215502738952637,
          -1.0691256523132324,
          1.700994610786438,
          -4.479150772094727,
          3.7012133598327637,
          -3.6959619522094727,
          1.1749801635742188,
          9.878392219543457,
          -1.4075522422790527,
          -2.1506826877593994,
          -5.952945709228516,
          3.5830271244049072,
          -11.013243675231934,
          -11.283206939697266,
          9.06020450592041,
          -3.2082033157348633,
          7.232370853424072,
          0.9369803667068481,
          -1.2231494188308716,
          0.03675629943609238,
          9.000563621520996,
          7.102382659912109,
          1.514478087425232,
          0.1612846553325653,
          4.340570449829102,
          -12.922301292419434,
          -8.117561340332031,
          -2.792722702026367,
          0.6862332820892334,
          -6.879936218261719,
          0.9382442235946655,
          2.651886224746704,
          1.5180913209915161,
          -10.214835166931152,
          -15.912039756774902,
          6.896985054016113,
          -2.1142380237579346,
          3.741995096206665,
          -4.923542499542236,
          -10.833661079406738,
          -8.209720611572266,
          -14.433258056640625,
          -4.261831283569336,
          -6.702270984649658,
          -4.293259143829346,
          3.3622288703918457,
          8.858758926391602,
          -0.47251754999160767,
          -7.1428937911987305,
          -1.5414730310440063,
          2.9112563133239746,
          -1.3086000680923462,
          12.4391508102417,
          -11.694482803344727,
          -4.641504287719727,
          -15.326090812683105,
          -5.631504535675049,
          -5.9528961181640625,
          -10.30012321472168,
          -0.4929356575012207,
          -3.324061870574951,
          4.052221775054932,
          0.01964413933455944,
          5.92786979675293,
          -2.5112271308898926,
          -8.872575759887695,
          -4.454931259155273,
          -8.19173526763916,
          1.4969104528427124,
          -0.8027505278587341,
          2.19755220413208,
          2.347877025604248,
          1.6924599409103394,
          -5.127448081970215,
          -2.7536721229553223,
          -3.883636951446533,
          2.008532762527466,
          7.184896469116211,
          0.5945813059806824,
          -10.86475658416748,
          -7.347041130065918,
          3.143686532974243,
          7.215950965881348,
          -0.7013902068138123,
          7.781454563140869,
          -3.0092530250549316,
          -1.192777156829834,
          -8.10428524017334,
          -14.00840950012207,
          -9.177997589111328,
          -8.994950294494629,
          1.1330064535140991,
          -4.391706466674805,
          -1.9282900094985962,
          -7.4951395988464355,
          -4.165626525878906,
          -10.881180763244629,
          7.684905052185059,
          -8.913036346435547,
          -6.879197120666504,
          5.482765197753906,
          -6.618774890899658,
          6.545564651489258,
          3.5127954483032227,
          -10.225764274597168,
          0.23040445148944855,
          9.694086074829102,
          -14.32690715789795,
          -7.005312919616699,
          -2.021347761154175,
          -11.135458946228027,
          2.6936569213867188,
          -12.601446151733398,
          7.086068630218506,
          2.323737621307373,
          -7.491482257843018,
          -9.201181411743164,
          0.29285725951194763,
          2.299786329269409,
          5.0779924392700195,
          -9.988239288330078,
          -2.998584747314453,
          -2.166865587234497,
          12.420574188232422,
          3.2906546592712402,
          -11.32457160949707,
          -8.735159873962402,
          -13.31118392944336,
          10.029869079589844,
          -4.403663158416748,
          -4.712676048278809,
          1.3694816827774048,
          -2.4087135791778564,
          -0.610339343547821,
          -11.531888008117676,
          3.2524726390838623,
          -7.6123881340026855,
          4.951574325561523,
          -1.568315863609314,
          -7.017319202423096,
          6.057207107543945,
          -1.7139225006103516,
          -7.581650257110596,
          0.3798345923423767,
          -5.048890113830566,
          -1.7404391765594482,
          -12.37368106842041,
          -8.568428993225098,
          4.211137771606445,
          -2.6444449424743652,
          -4.031663417816162,
          3.9499447345733643,
          4.214927673339844,
          -6.288922309875488,
          -0.050849009305238724,
          4.850315570831299,
          -13.624706268310547,
          0.7990122437477112,
          0.27686792612075806,
          -7.216978073120117,
          1.5030664205551147,
          -2.292994499206543,
          -11.216622352600098,
          3.047201633453369,
          5.2911224365234375,
          -8.73725700378418,
          4.871790885925293,
          1.8076393604278564,
          5.374887466430664,
          -1.6140280961990356,
          2.1913774013519287,
          -1.4841877222061157,
          0.6998389363288879,
          -4.710081577301025,
          -12.850977897644043,
          -1.2026729583740234,
          -7.244070529937744,
          -3.991969108581543,
          0.06672527641057968
         ],
         "y": [
          4.21553373336792,
          0.8418417572975159,
          6.213453769683838,
          11.426562309265137,
          13.055781364440918,
          0.4391034245491028,
          -2.6791887283325195,
          -5.057253360748291,
          -4.145224094390869,
          6.3928751945495605,
          2.672179698944092,
          7.623485565185547,
          -0.17327550053596497,
          -1.9971526861190796,
          3.615394115447998,
          -1.0853267908096313,
          0.030065640807151794,
          -0.4455720782279968,
          10.901104927062988,
          5.317859172821045,
          -3.3267054557800293,
          6.6649580001831055,
          -0.9006562829017639,
          -2.910248041152954,
          1.7735012769699097,
          1.8521709442138672,
          5.476254463195801,
          -0.23334161937236786,
          -1.5863200426101685,
          -8.130894660949707,
          1.1607935428619385,
          4.74489164352417,
          -12.073481559753418,
          3.427323818206787,
          -0.7221406698226929,
          11.09470272064209,
          5.1955647468566895,
          -0.747857928276062,
          -6.601745128631592,
          -3.562361717224121,
          -11.453280448913574,
          7.627702236175537,
          -6.09566068649292,
          -4.252075672149658,
          2.3062491416931152,
          -3.001413345336914,
          -4.934478759765625,
          -1.146929144859314,
          5.401505947113037,
          9.362634658813477,
          1.4780973196029663,
          2.3200225830078125,
          -9.374674797058105,
          4.0652995109558105,
          4.594991207122803,
          -8.78696060180664,
          4.264030933380127,
          4.799936294555664,
          4.620248317718506,
          -6.673924446105957,
          -1.8083609342575073,
          10.495523452758789,
          -11.966232299804688,
          9.214494705200195,
          -7.243636131286621,
          2.241650342941284,
          -0.9343847036361694,
          -7.397225856781006,
          4.176105499267578,
          9.632670402526855,
          -2.910283088684082,
          -7.625572204589844,
          -9.129548072814941,
          7.647857189178467,
          -11.516830444335938,
          2.1685736179351807,
          2.9080488681793213,
          -15.234837532043457,
          8.741161346435547,
          -3.9451072216033936,
          6.279733180999756,
          -11.746658325195312,
          7.994901657104492,
          -7.2290472984313965,
          3.5568556785583496,
          9.161150932312012,
          8.347134590148926,
          0.676271378993988,
          6.837164878845215,
          0.33159711956977844,
          -4.497386455535889,
          1.2855825424194336,
          -9.53034782409668,
          -13.12483024597168,
          7.350098609924316,
          -8.488837242126465,
          -12.989062309265137,
          -3.976292610168457,
          -8.42274284362793,
          10.352790832519531,
          -0.6991397142410278,
          -5.341774940490723,
          -6.479484558105469,
          -6.231406211853027,
          -12.62828540802002,
          4.55256986618042,
          -5.417169570922852,
          4.002582550048828,
          -10.865830421447754,
          -4.339494705200195,
          7.627471923828125,
          11.735356330871582,
          -5.019721031188965,
          -3.0638082027435303,
          0.17048193514347076,
          7.084665775299072,
          -3.30773663520813,
          1.0590161085128784,
          -7.786677360534668,
          -4.979729175567627,
          0.6945585012435913,
          -13.280659675598145,
          2.4553284645080566,
          10.752455711364746,
          -8.209671020507812,
          3.6860668659210205,
          -9.323930740356445,
          -12.979691505432129,
          -11.33434772491455,
          0.5578621625900269,
          -13.221358299255371,
          -8.450653076171875,
          -0.3816547691822052,
          1.086927056312561,
          5.304111480712891,
          -7.420952796936035,
          2.271514892578125,
          8.101339340209961,
          -1.2948459386825562,
          -7.4731621742248535,
          4.686836242675781,
          -5.580482482910156,
          -5.424001693725586,
          12.033326148986816,
          11.71020221710205,
          6.539724349975586,
          0.7089182138442993,
          10.038003921508789,
          -4.82051944732666,
          6.759970664978027,
          -7.116487979888916,
          13.314131736755371,
          9.566381454467773,
          6.5488481521606445,
          -4.39784574508667,
          -0.5430853962898254,
          -1.2899832725524902,
          2.217602252960205,
          3.5298678874969482,
          -9.595037460327148,
          1.7217116355895996,
          5.657566547393799,
          1.8542779684066772,
          -7.356818199157715,
          -1.6743531227111816,
          -5.3226752281188965,
          -7.452084064483643,
          -5.250583648681641,
          10.650782585144043,
          5.057509422302246,
          4.8788533210754395,
          8.000069618225098,
          -7.000639915466309,
          -14.966805458068848,
          -3.6567158699035645,
          8.794305801391602,
          9.651345252990723,
          1.1280404329299927,
          5.7311906814575195,
          -2.6052541732788086,
          -14.833782196044922,
          -5.819297790527344,
          11.624378204345703,
          -1.1579984426498413,
          -14.552001953125,
          -4.1712646484375,
          6.481573581695557,
          6.8856520652771,
          -0.7585412263870239,
          9.420361518859863,
          3.5214755535125732,
          -13.349651336669922
         ]
        }
       ],
       "layout": {
        "autosize": false,
        "height": 600,
        "hovermode": "closest",
        "showlegend": true,
        "template": {
         "data": {
          "bar": [
           {
            "error_x": {
             "color": "#2a3f5f"
            },
            "error_y": {
             "color": "#2a3f5f"
            },
            "marker": {
             "line": {
              "color": "#E5ECF6",
              "width": 0.5
             }
            },
            "type": "bar"
           }
          ],
          "barpolar": [
           {
            "marker": {
             "line": {
              "color": "#E5ECF6",
              "width": 0.5
             }
            },
            "type": "barpolar"
           }
          ],
          "carpet": [
           {
            "aaxis": {
             "endlinecolor": "#2a3f5f",
             "gridcolor": "white",
             "linecolor": "white",
             "minorgridcolor": "white",
             "startlinecolor": "#2a3f5f"
            },
            "baxis": {
             "endlinecolor": "#2a3f5f",
             "gridcolor": "white",
             "linecolor": "white",
             "minorgridcolor": "white",
             "startlinecolor": "#2a3f5f"
            },
            "type": "carpet"
           }
          ],
          "choropleth": [
           {
            "colorbar": {
             "outlinewidth": 0,
             "ticks": ""
            },
            "type": "choropleth"
           }
          ],
          "contour": [
           {
            "colorbar": {
             "outlinewidth": 0,
             "ticks": ""
            },
            "colorscale": [
             [
              0.0,
              "#0d0887"
             ],
             [
              0.1111111111111111,
              "#46039f"
             ],
             [
              0.2222222222222222,
              "#7201a8"
             ],
             [
              0.3333333333333333,
              "#9c179e"
             ],
             [
              0.4444444444444444,
              "#bd3786"
             ],
             [
              0.5555555555555556,
              "#d8576b"
             ],
             [
              0.6666666666666666,
              "#ed7953"
             ],
             [
              0.7777777777777778,
              "#fb9f3a"
             ],
             [
              0.8888888888888888,
              "#fdca26"
             ],
             [
              1.0,
              "#f0f921"
             ]
            ],
            "type": "contour"
           }
          ],
          "contourcarpet": [
           {
            "colorbar": {
             "outlinewidth": 0,
             "ticks": ""
            },
            "type": "contourcarpet"
           }
          ],
          "heatmap": [
           {
            "colorbar": {
             "outlinewidth": 0,
             "ticks": ""
            },
            "colorscale": [
             [
              0.0,
              "#0d0887"
             ],
             [
              0.1111111111111111,
              "#46039f"
             ],
             [
              0.2222222222222222,
              "#7201a8"
             ],
             [
              0.3333333333333333,
              "#9c179e"
             ],
             [
              0.4444444444444444,
              "#bd3786"
             ],
             [
              0.5555555555555556,
              "#d8576b"
             ],
             [
              0.6666666666666666,
              "#ed7953"
             ],
             [
              0.7777777777777778,
              "#fb9f3a"
             ],
             [
              0.8888888888888888,
              "#fdca26"
             ],
             [
              1.0,
              "#f0f921"
             ]
            ],
            "type": "heatmap"
           }
          ],
          "heatmapgl": [
           {
            "colorbar": {
             "outlinewidth": 0,
             "ticks": ""
            },
            "colorscale": [
             [
              0.0,
              "#0d0887"
             ],
             [
              0.1111111111111111,
              "#46039f"
             ],
             [
              0.2222222222222222,
              "#7201a8"
             ],
             [
              0.3333333333333333,
              "#9c179e"
             ],
             [
              0.4444444444444444,
              "#bd3786"
             ],
             [
              0.5555555555555556,
              "#d8576b"
             ],
             [
              0.6666666666666666,
              "#ed7953"
             ],
             [
              0.7777777777777778,
              "#fb9f3a"
             ],
             [
              0.8888888888888888,
              "#fdca26"
             ],
             [
              1.0,
              "#f0f921"
             ]
            ],
            "type": "heatmapgl"
           }
          ],
          "histogram": [
           {
            "marker": {
             "colorbar": {
              "outlinewidth": 0,
              "ticks": ""
             }
            },
            "type": "histogram"
           }
          ],
          "histogram2d": [
           {
            "colorbar": {
             "outlinewidth": 0,
             "ticks": ""
            },
            "colorscale": [
             [
              0.0,
              "#0d0887"
             ],
             [
              0.1111111111111111,
              "#46039f"
             ],
             [
              0.2222222222222222,
              "#7201a8"
             ],
             [
              0.3333333333333333,
              "#9c179e"
             ],
             [
              0.4444444444444444,
              "#bd3786"
             ],
             [
              0.5555555555555556,
              "#d8576b"
             ],
             [
              0.6666666666666666,
              "#ed7953"
             ],
             [
              0.7777777777777778,
              "#fb9f3a"
             ],
             [
              0.8888888888888888,
              "#fdca26"
             ],
             [
              1.0,
              "#f0f921"
             ]
            ],
            "type": "histogram2d"
           }
          ],
          "histogram2dcontour": [
           {
            "colorbar": {
             "outlinewidth": 0,
             "ticks": ""
            },
            "colorscale": [
             [
              0.0,
              "#0d0887"
             ],
             [
              0.1111111111111111,
              "#46039f"
             ],
             [
              0.2222222222222222,
              "#7201a8"
             ],
             [
              0.3333333333333333,
              "#9c179e"
             ],
             [
              0.4444444444444444,
              "#bd3786"
             ],
             [
              0.5555555555555556,
              "#d8576b"
             ],
             [
              0.6666666666666666,
              "#ed7953"
             ],
             [
              0.7777777777777778,
              "#fb9f3a"
             ],
             [
              0.8888888888888888,
              "#fdca26"
             ],
             [
              1.0,
              "#f0f921"
             ]
            ],
            "type": "histogram2dcontour"
           }
          ],
          "mesh3d": [
           {
            "colorbar": {
             "outlinewidth": 0,
             "ticks": ""
            },
            "type": "mesh3d"
           }
          ],
          "parcoords": [
           {
            "line": {
             "colorbar": {
              "outlinewidth": 0,
              "ticks": ""
             }
            },
            "type": "parcoords"
           }
          ],
          "scatter": [
           {
            "marker": {
             "colorbar": {
              "outlinewidth": 0,
              "ticks": ""
             }
            },
            "type": "scatter"
           }
          ],
          "scatter3d": [
           {
            "line": {
             "colorbar": {
              "outlinewidth": 0,
              "ticks": ""
             }
            },
            "marker": {
             "colorbar": {
              "outlinewidth": 0,
              "ticks": ""
             }
            },
            "type": "scatter3d"
           }
          ],
          "scattercarpet": [
           {
            "marker": {
             "colorbar": {
              "outlinewidth": 0,
              "ticks": ""
             }
            },
            "type": "scattercarpet"
           }
          ],
          "scattergeo": [
           {
            "marker": {
             "colorbar": {
              "outlinewidth": 0,
              "ticks": ""
             }
            },
            "type": "scattergeo"
           }
          ],
          "scattergl": [
           {
            "marker": {
             "colorbar": {
              "outlinewidth": 0,
              "ticks": ""
             }
            },
            "type": "scattergl"
           }
          ],
          "scattermapbox": [
           {
            "marker": {
             "colorbar": {
              "outlinewidth": 0,
              "ticks": ""
             }
            },
            "type": "scattermapbox"
           }
          ],
          "scatterpolar": [
           {
            "marker": {
             "colorbar": {
              "outlinewidth": 0,
              "ticks": ""
             }
            },
            "type": "scatterpolar"
           }
          ],
          "scatterpolargl": [
           {
            "marker": {
             "colorbar": {
              "outlinewidth": 0,
              "ticks": ""
             }
            },
            "type": "scatterpolargl"
           }
          ],
          "scatterternary": [
           {
            "marker": {
             "colorbar": {
              "outlinewidth": 0,
              "ticks": ""
             }
            },
            "type": "scatterternary"
           }
          ],
          "surface": [
           {
            "colorbar": {
             "outlinewidth": 0,
             "ticks": ""
            },
            "colorscale": [
             [
              0.0,
              "#0d0887"
             ],
             [
              0.1111111111111111,
              "#46039f"
             ],
             [
              0.2222222222222222,
              "#7201a8"
             ],
             [
              0.3333333333333333,
              "#9c179e"
             ],
             [
              0.4444444444444444,
              "#bd3786"
             ],
             [
              0.5555555555555556,
              "#d8576b"
             ],
             [
              0.6666666666666666,
              "#ed7953"
             ],
             [
              0.7777777777777778,
              "#fb9f3a"
             ],
             [
              0.8888888888888888,
              "#fdca26"
             ],
             [
              1.0,
              "#f0f921"
             ]
            ],
            "type": "surface"
           }
          ],
          "table": [
           {
            "cells": {
             "fill": {
              "color": "#EBF0F8"
             },
             "line": {
              "color": "white"
             }
            },
            "header": {
             "fill": {
              "color": "#C8D4E3"
             },
             "line": {
              "color": "white"
             }
            },
            "type": "table"
           }
          ]
         },
         "layout": {
          "annotationdefaults": {
           "arrowcolor": "#2a3f5f",
           "arrowhead": 0,
           "arrowwidth": 1
          },
          "colorscale": {
           "diverging": [
            [
             0,
             "#8e0152"
            ],
            [
             0.1,
             "#c51b7d"
            ],
            [
             0.2,
             "#de77ae"
            ],
            [
             0.3,
             "#f1b6da"
            ],
            [
             0.4,
             "#fde0ef"
            ],
            [
             0.5,
             "#f7f7f7"
            ],
            [
             0.6,
             "#e6f5d0"
            ],
            [
             0.7,
             "#b8e186"
            ],
            [
             0.8,
             "#7fbc41"
            ],
            [
             0.9,
             "#4d9221"
            ],
            [
             1,
             "#276419"
            ]
           ],
           "sequential": [
            [
             0.0,
             "#0d0887"
            ],
            [
             0.1111111111111111,
             "#46039f"
            ],
            [
             0.2222222222222222,
             "#7201a8"
            ],
            [
             0.3333333333333333,
             "#9c179e"
            ],
            [
             0.4444444444444444,
             "#bd3786"
            ],
            [
             0.5555555555555556,
             "#d8576b"
            ],
            [
             0.6666666666666666,
             "#ed7953"
            ],
            [
             0.7777777777777778,
             "#fb9f3a"
            ],
            [
             0.8888888888888888,
             "#fdca26"
            ],
            [
             1.0,
             "#f0f921"
            ]
           ],
           "sequentialminus": [
            [
             0.0,
             "#0d0887"
            ],
            [
             0.1111111111111111,
             "#46039f"
            ],
            [
             0.2222222222222222,
             "#7201a8"
            ],
            [
             0.3333333333333333,
             "#9c179e"
            ],
            [
             0.4444444444444444,
             "#bd3786"
            ],
            [
             0.5555555555555556,
             "#d8576b"
            ],
            [
             0.6666666666666666,
             "#ed7953"
            ],
            [
             0.7777777777777778,
             "#fb9f3a"
            ],
            [
             0.8888888888888888,
             "#fdca26"
            ],
            [
             1.0,
             "#f0f921"
            ]
           ]
          },
          "colorway": [
           "#636efa",
           "#EF553B",
           "#00cc96",
           "#ab63fa",
           "#FFA15A",
           "#19d3f3",
           "#FF6692",
           "#B6E880",
           "#FF97FF",
           "#FECB52"
          ],
          "font": {
           "color": "#2a3f5f"
          },
          "geo": {
           "bgcolor": "white",
           "lakecolor": "white",
           "landcolor": "#E5ECF6",
           "showlakes": true,
           "showland": true,
           "subunitcolor": "white"
          },
          "hoverlabel": {
           "align": "left"
          },
          "hovermode": "closest",
          "mapbox": {
           "style": "light"
          },
          "paper_bgcolor": "white",
          "plot_bgcolor": "#E5ECF6",
          "polar": {
           "angularaxis": {
            "gridcolor": "white",
            "linecolor": "white",
            "ticks": ""
           },
           "bgcolor": "#E5ECF6",
           "radialaxis": {
            "gridcolor": "white",
            "linecolor": "white",
            "ticks": ""
           }
          },
          "scene": {
           "xaxis": {
            "backgroundcolor": "#E5ECF6",
            "gridcolor": "white",
            "gridwidth": 2,
            "linecolor": "white",
            "showbackground": true,
            "ticks": "",
            "zerolinecolor": "white"
           },
           "yaxis": {
            "backgroundcolor": "#E5ECF6",
            "gridcolor": "white",
            "gridwidth": 2,
            "linecolor": "white",
            "showbackground": true,
            "ticks": "",
            "zerolinecolor": "white"
           },
           "zaxis": {
            "backgroundcolor": "#E5ECF6",
            "gridcolor": "white",
            "gridwidth": 2,
            "linecolor": "white",
            "showbackground": true,
            "ticks": "",
            "zerolinecolor": "white"
           }
          },
          "shapedefaults": {
           "line": {
            "color": "#2a3f5f"
           }
          },
          "ternary": {
           "aaxis": {
            "gridcolor": "white",
            "linecolor": "white",
            "ticks": ""
           },
           "baxis": {
            "gridcolor": "white",
            "linecolor": "white",
            "ticks": ""
           },
           "bgcolor": "#E5ECF6",
           "caxis": {
            "gridcolor": "white",
            "linecolor": "white",
            "ticks": ""
           }
          },
          "title": {
           "x": 0.05
          },
          "xaxis": {
           "automargin": true,
           "gridcolor": "white",
           "linecolor": "white",
           "ticks": "",
           "zerolinecolor": "white",
           "zerolinewidth": 2
          },
          "yaxis": {
           "automargin": true,
           "gridcolor": "white",
           "linecolor": "white",
           "ticks": "",
           "zerolinecolor": "white",
           "zerolinewidth": 2
          }
         }
        },
        "title": {
         "text": "TSNE (T-Distributed Stochastic Neighbour Embedding)"
        },
        "width": 600,
        "xaxis": {
         "zeroline": false
        },
        "yaxis": {
         "zeroline": false
        }
       }
      },
      "text/html": [
       "<div>\n",
       "        \n",
       "        \n",
       "            <div id=\"4f9cb978-42d1-485a-b6dc-033ce2de9c55\" class=\"plotly-graph-div\" style=\"height:600px; width:600px;\"></div>\n",
       "            <script type=\"text/javascript\">\n",
       "                require([\"plotly\"], function(Plotly) {\n",
       "                    window.PLOTLYENV=window.PLOTLYENV || {};\n",
       "                    \n",
       "                if (document.getElementById(\"4f9cb978-42d1-485a-b6dc-033ce2de9c55\")) {\n",
       "                    Plotly.newPlot(\n",
       "                        '4f9cb978-42d1-485a-b6dc-033ce2de9c55',\n",
       "                        [{\"hoverinfo\": \"text\", \"marker\": {\"color\": [4, 3, 0, 0, 2, 0, 2, 0, 0, 2, 2, 3, 2, 4, 3, 3, 3, 2, 0, 3, 0, 0, 2, 1, 3, 0, 0, 2, 3, 3, 2, 2, 4, 2, 2, 3, 2, 2, 2, 1, 4, 4, 4, 3, 3, 2, 1, 1, 2, 2, 3, 2, 3, 0, 0, 4, 2, 0, 2, 2, 2, 3, 4, 2, 2, 3, 3, 4, 0, 3, 1, 1, 4, 2, 2, 2, 2, 2, 0, 4, 2, 3, 2, 0, 2, 4, 2, 4, 2, 3, 2, 4, 4, 2, 4, 4, 3, 2, 4, 2, 2, 4, 1, 1, 3, 0, 3, 0, 4, 0, 3, 2, 2, 4, 0, 2, 2, 0, 3, 0, 0, 0, 3, 3, 2, 0, 2, 4, 0, 0, 3, 4, 2, 0, 0, 4, 2, 4, 4, 1, 0, 2, 4, 0, 3, 0, 3, 0, 3, 0, 4, 2, 0, 2, 2, 0, 3, 2, 2, 4, 0, 4, 2, 4, 2, 4, 4, 3, 0, 0, 2, 0, 1, 0, 0, 0, 2, 2, 4, 3, 0, 4, 4, 3, 4, 2, 0, 0, 2, 2, 3, 3], \"colorscale\": [[0.0, \"rgb(12,51,131)\"], [0.25, \"rgb(10,136,186)\"], [0.5, \"rgb(242,211,56)\"], [0.75, \"rgb(242,143,56)\"], [1.0, \"rgb(217,30,30)\"]], \"line\": {\"color\": \"rgb(255, 255, 255)\", \"width\": 2}, \"opacity\": 0.8, \"showscale\": false, \"size\": 8}, \"mode\": \"markers\", \"showlegend\": true, \"text\": [\"Gebratener Hasenr\\u00fccken\", \"Pilz Stroganoff\", \"Kaninchen a la Gioff\", \"Spanisches Knoblauch-Kaninchen\", \"Gnocchi - Hack - Pfanne mit Basilikum\", \"Spaghetti Siracusani\", \"Rehr\\u00fccken in Salzkruste mit Waldpilzgulasch\", \"Eier in Senfsauce\", \"\\u00c4ppelufflaaf mett Woi\", \"Gef\\u00fcllte Schinkenr\\u00f6llchen\", \"Leichtes Mittagessen\", \"Herzhafte Pfannkuchen\", \"Raizenkarpfen\", \"Bulgur Buddha Bowl\", \"\\u00dcberbackene Rigatoni in Schinken-Sahne-So\\u00dfe\", \"Gittas Schmorgurken\", \"Griechische Hackfleischquiche\", \"Kartoffelgratin mit Cheddar\", \"Sahne-Kr\\u00e4uter-H\\u00e4hnchen\", \"Rotbarschfilet auf p\\u00fcrierten Tomaten mit Zucchini - Mozzarellahaube\", \"Bayerische Schinkennudeln\", \"S\\u00fc\\u00dfe Schupfnudeln\", \"K\\u00fcrbis - Quiche\", \"Mit Hackfleisch gef\\u00fcllte Zucchini\", \"Fegato di Vitello alla Paesana\", \"T\\u00fcrkische Pide mit K\\u00e4se und Sucuk\", \"Entenkeulen \\u00e0 la bourguignonne\", \"Chili sin Carne\", \"K\\u00fcrbis-Orangen-Waffeln\", \"Deftiger Rehr\\u00fccken\", \"Kritharaki-Salat mit Hackfleisch\", \"Nannis Reisauflauf\", \"Rosmarin-Balsamico-Schweinefilet\", \"Indischer Linseneintopf\", \"B\\u00f6hmisches Gulasch\", \"Krautwickel mit Knackwurstf\\u00fcllung\", \"Pangasiusfilet auf Ratatouille\", \"Kartoffel-Parmesan Puffer\", \"Kartoffelsalat mit Hackb\\u00e4llchen\", \"Hirsesalat\", \"Fischsuppe\", \"Kartoffelsuppe mit W\\u00fcrstchen\", \"Schweineschnitzel unter B\\u00e4rlauch-Cornflakes Haube\", \"Gef\\u00fcllte Paprika mit Hackfleisch und Reis\", \"Gef\\u00fcllte Koteletts\", \"Fladenbrotpizza \\\"Napoli\\\"\", \"Putenspie\\u00dfe mit Schafk\\u00e4sesauce\", \"Makkaroni in Tomatensahneso\\u00dfe\", \"H\\u00e4hnchenschlegel mit B\\u00e4rlauchkruste\", \"Schweinefilet Normandie\", \"Gem\\u00fcsepfanne mit Leberk\\u00e4se\", \"Gebratener gr\\u00fcner Spargel mit Kirschtomaten und Kart\\u00f6ffelchen\", \"Chilinudeln mit Cashewn\\u00fcssen\", \"B\\u00e4ckerofen aus dem Elsa\\u00df\", \"Gef\\u00fcllte Erd\\u00e4pfel\", \"New York Club Sandwich\", \"K\\u00f6lner Neujahrskarpfen\", \"B\\u00f6rek\", \"Reiberdatschi\", \"Klassisches J\\u00e4gerschnitzel\", \"Yufka mit Gem\\u00fcse- und Rindfleischf\\u00fcllung\", \"Hackkl\\u00f6\\u00dfe in Curry - Sahneso\\u00dfe\", \"Rehkeule mit Brat\\u00e4pfel\", \"S\\u00e4chsische Kartoffelsuppe - vegane Variante\", \"Kalbsschnitzel mit Zitrone und Kapern\", \"Wirsing - Quiche\", \"Gefl\\u00fcgelsalat\", \"Pangasius aus dem Pergament\", \"Gyrosschichtbraten\", \"Schinken-Hack-Rouladen\", \"Bohnensuppe mit Rippchen\", \"Fischst\\u00e4bchenspie\\u00dfe zum Grillen und Braten\", \"Eier - Rouladen\", \"Hirsch - Medaillons in Pfeffersauce\", \"Flammkuchen mit Ziegenk\\u00e4se, Rosmarin und Honig\", \"Risotto vom Fisch\", \"Geschichtetes Kraut\", \"Blumenkohlauflauf mit Hackfleisch und Kartoffelbrei\", \"Knusperscholle\", \"Hirsepfannkuchen mit Spinatf\\u00fcllung\", \"Gebratener Spargel mit B\\u00e4rlauch\", \"Frittierter Fisch mit Erdbeer - Meerrettich\", \"Baltimore Krabben\", \"Lachs ged\\u00e4mpft\", \"Himmlischer Sauerkrautauflauf\", \"Rotbarsch mit Petersilienschaum\", \"Rohrnudeln\", \"Rosenkohlsuppe mit Cabanossi und Basilikum\", \"Apfel-Pfannkuchen\", \"Matjesfilets mit Bratkartoffeln\", \"Orientalische Zucchini-Zwiebel-Pfanne mit Bulgur\", \"Miris feine Knoblauchspaghetti\", \"'Z\\u00fcri Gschn\\u00e4tzlets' mit R\\u00f6sti\", \"Kleine Kartoffelgratins mit K\\u00e4sechips\", \"Gr\\u00fcnkernrolle mit Paprikaso\\u00dfe\", \"Kohl mit Kartoffeln\", \"Kohlrabi-Risotto mit Pinienkernen\", \"Frutti di Mare in Paprikaschoten Buzuluk\", \"Bautzener Topfs\\u00fclze\", \"Schneller Schwarzwurzel-Auflauf\", \"Tandoori H\\u00e4hnchenspie\\u00dfe\", \"Milchsuppe s\\u00fc\\u00df\", \"S\\u00e4chsische Kartoffelsuppe\", \"Gong Bao Chicken\", \"Tomaten-Spinat-Pasta\", \"Japanische Steakrollen\", \"Couscoussalat mit Rosinen und Minze\", \"Am Spie\\u00df gebratenes Schweinefleisch mit Malzextrakt\", \"Lammr\\u00fccken im Kr\\u00e4utermantel\", \"Lachsfilet auf Rahmwirsing\", \"Debreciner vom Rost\", \"Dinkelsalat\", \"Steirische Apfelspatzen\", \"H\\u00e4hnchen-Zucchini-Geschnetzeltes mit Kokosmilch\", \"Spaghetti-Auflauf mit Speck\", \"Spare Ribs\", \"Pikant gef\\u00fcllte Knackw\\u00fcrste\", \"Tarte au Ratatouille\", \"Fischsuppe S\\u00e8teois\", \"Schwarzwurzel - Auflauf mit Kasseler\", \"Gulaschsuppe\", \"K\\u00fcrbisquiche mit eingelegtem K\\u00fcrbis und Gorgonzola\", \"In Rotwein geschmorte Kaninchenkeulen mit Sp\\u00e4tzle\", \"Estragon - Braten\", \"Fenchel - Tomaten - Spagetti\", \"Pasta estiva\", \"Nudeln mit Mascarpone und R\\u00e4ucherspeck\", \"Pierogi\", \"Krautsuppe\", \"Erdbeerreis\", \"Gratin vom Blumenkohl\", \"Albertos Risoni\", \"Gef\\u00fcllte Buchteln mit Fr\\u00fchlingssalat\", \"Monkey-Burger\", \"Caesar Salad\", \"Linsensuppe \\u00e0 la Mama\", \"Matjes in Curry - Sahne\", \"Apfel - Reis - Auflauf\", \"Tomaten-Zucchini-Pfanne mit Feta\", \"Argentinisches Rinderh\\u00fcftsteak mit gr\\u00fcnen Bohnen, Pfeffer - Sahne - Sauce, Bratkartoffeln\", \"Eckis italienischer Nudelsalat mit Pesto\", \"Hackbraten mit Kartoffeln in Sahne\", \"Makkaroni al Yei\", \"Kartoffelsuppe\", \"Bratb\\u00e4llchen in Schmorgurken - Pfanne\", \"Matjes nach Friesin Art\", \"Medaillons vom Reh an Preiselbeerjus\", \"Paprikakoteletts\", \"Wokpfanne nach Szechuanart\", \"Schweinefilet mit buntem Salat\", \"Fisch in Sauerampfer\", \"Schwarzwurzeln in Schinken\", \"Couscous-Salat mit Gem\\u00fcse und Minze\", \"Reibekuchen nach Opas Art\", \"Chop Suey f\\u00fcr Figurbewusste\", \"Tomaten-Zucchini-Spaghetti\", \"Zucchinieintopf mit Graupen und Tomaten\", \"Fischfilet-Gratin mit Porree und Tomaten\", \"Fenchel-Fisch-Auflauf\", \"Topfenstrudel mit Fr\\u00fcchten\", \"\\u00dcberbackenes Schnitzel\", \"Kr\\u00e4uter-Putenbraten auf Fr\\u00fchlingsgem\\u00fcse\", \"Tagliatelle mit Leber und Salbei\", \"Erbsensuppe mit Frischk\\u00e4se und gekochtem Schinken\", \"Lachsfilet mit Kartoffel-K\\u00e4sekruste\", \"Bolognese vegan\", \"Arabischer Sch\\u00e4ferspie\\u00df\", \"Raclette-Reste Auflauf\", \"Fleischtopf mit Knoblauch\", \"Kaninchenkeulen mit Wei\\u00dfwein und Oliven\", \"Amselfelder Pfannkuchen\", \"Fruchtiges Curry - Geschnetzeltes\", \"Gef\\u00fcllter Lammbraten mit Gem\\u00fcse\", \"Bacon-Lamm mit B\\u00e4rlauchrisotto\", \"Fischertopf\", \"Schwammerl-Nudel-Pfanne\", \"H\\u00e4hnchenbrustfilet in Rhabarber - Rahmsauce\", \"Forellen - Saltimbocca mit gebratenem Gem\\u00fcse\", \"Obst-Schnitzel-Grillspie\\u00dfe\", \"Buttermilch - Walnuss - Salat mit Pellkartoffeln\", \"Gekr\\u00e4uterte Lammlachse\", \"Davids Bauernfr\\u00fchst\\u00fcck\", \"Serbischer Paprikaeintopf\", \"S\\u00fc\\u00dfkartoffeln mit mariniertem H\\u00e4hnchen\", \"Schweinelendchen in Sahne - Calvados - Sauce\", \"Nudelauflauf mit H\\u00e4hnchen und Ananas\", \"Friedhelms Pfannkuchen\", \"Geschnetzeltes Putenfleisch mit M\\u00f6hren und Fr\\u00fchlingszwiebeln\", \"Saftiger Putenbraten mit Gem\\u00fcse \\u00e0 la Provence\", \"Bandnudeln mit Rosenkohl\", \"Tortellini alla panna\", \"Thunfisch - Nudel - Auflauf\"], \"type\": \"scatter\", \"x\": [3.058026075363159, 7.911050796508789, -14.06229305267334, -2.8581252098083496, -4.949029922485352, -10.821969985961914, -12.592000007629395, 1.5978035926818848, 9.051706314086914, 2.042416572570801, 5.810810089111328, -6.754082679748535, 9.095623970031738, -10.215502738952637, -1.0691256523132324, 1.700994610786438, -4.479150772094727, 3.7012133598327637, -3.6959619522094727, 1.1749801635742188, 9.878392219543457, -1.4075522422790527, -2.1506826877593994, -5.952945709228516, 3.5830271244049072, -11.013243675231934, -11.283206939697266, 9.06020450592041, -3.2082033157348633, 7.232370853424072, 0.9369803667068481, -1.2231494188308716, 0.03675629943609238, 9.000563621520996, 7.102382659912109, 1.514478087425232, 0.1612846553325653, 4.340570449829102, -12.922301292419434, -8.117561340332031, -2.792722702026367, 0.6862332820892334, -6.879936218261719, 0.9382442235946655, 2.651886224746704, 1.5180913209915161, -10.214835166931152, -15.912039756774902, 6.896985054016113, -2.1142380237579346, 3.741995096206665, -4.923542499542236, -10.833661079406738, -8.209720611572266, -14.433258056640625, -4.261831283569336, -6.702270984649658, -4.293259143829346, 3.3622288703918457, 8.858758926391602, -0.47251754999160767, -7.1428937911987305, -1.5414730310440063, 2.9112563133239746, -1.3086000680923462, 12.4391508102417, -11.694482803344727, -4.641504287719727, -15.326090812683105, -5.631504535675049, -5.9528961181640625, -10.30012321472168, -0.4929356575012207, -3.324061870574951, 4.052221775054932, 0.01964413933455944, 5.92786979675293, -2.5112271308898926, -8.872575759887695, -4.454931259155273, -8.19173526763916, 1.4969104528427124, -0.8027505278587341, 2.19755220413208, 2.347877025604248, 1.6924599409103394, -5.127448081970215, -2.7536721229553223, -3.883636951446533, 2.008532762527466, 7.184896469116211, 0.5945813059806824, -10.86475658416748, -7.347041130065918, 3.143686532974243, 7.215950965881348, -0.7013902068138123, 7.781454563140869, -3.0092530250549316, -1.192777156829834, -8.10428524017334, -14.00840950012207, -9.177997589111328, -8.994950294494629, 1.1330064535140991, -4.391706466674805, -1.9282900094985962, -7.4951395988464355, -4.165626525878906, -10.881180763244629, 7.684905052185059, -8.913036346435547, -6.879197120666504, 5.482765197753906, -6.618774890899658, 6.545564651489258, 3.5127954483032227, -10.225764274597168, 0.23040445148944855, 9.694086074829102, -14.32690715789795, -7.005312919616699, -2.021347761154175, -11.135458946228027, 2.6936569213867188, -12.601446151733398, 7.086068630218506, 2.323737621307373, -7.491482257843018, -9.201181411743164, 0.29285725951194763, 2.299786329269409, 5.0779924392700195, -9.988239288330078, -2.998584747314453, -2.166865587234497, 12.420574188232422, 3.2906546592712402, -11.32457160949707, -8.735159873962402, -13.31118392944336, 10.029869079589844, -4.403663158416748, -4.712676048278809, 1.3694816827774048, -2.4087135791778564, -0.610339343547821, -11.531888008117676, 3.2524726390838623, -7.6123881340026855, 4.951574325561523, -1.568315863609314, -7.017319202423096, 6.057207107543945, -1.7139225006103516, -7.581650257110596, 0.3798345923423767, -5.048890113830566, -1.7404391765594482, -12.37368106842041, -8.568428993225098, 4.211137771606445, -2.6444449424743652, -4.031663417816162, 3.9499447345733643, 4.214927673339844, -6.288922309875488, -0.050849009305238724, 4.850315570831299, -13.624706268310547, 0.7990122437477112, 0.27686792612075806, -7.216978073120117, 1.5030664205551147, -2.292994499206543, -11.216622352600098, 3.047201633453369, 5.2911224365234375, -8.73725700378418, 4.871790885925293, 1.8076393604278564, 5.374887466430664, -1.6140280961990356, 2.1913774013519287, -1.4841877222061157, 0.6998389363288879, -4.710081577301025, -12.850977897644043, -1.2026729583740234, -7.244070529937744, -3.991969108581543, 0.06672527641057968], \"y\": [4.21553373336792, 0.8418417572975159, 6.213453769683838, 11.426562309265137, 13.055781364440918, 0.4391034245491028, -2.6791887283325195, -5.057253360748291, -4.145224094390869, 6.3928751945495605, 2.672179698944092, 7.623485565185547, -0.17327550053596497, -1.9971526861190796, 3.615394115447998, -1.0853267908096313, 0.030065640807151794, -0.4455720782279968, 10.901104927062988, 5.317859172821045, -3.3267054557800293, 6.6649580001831055, -0.9006562829017639, -2.910248041152954, 1.7735012769699097, 1.8521709442138672, 5.476254463195801, -0.23334161937236786, -1.5863200426101685, -8.130894660949707, 1.1607935428619385, 4.74489164352417, -12.073481559753418, 3.427323818206787, -0.7221406698226929, 11.09470272064209, 5.1955647468566895, -0.747857928276062, -6.601745128631592, -3.562361717224121, -11.453280448913574, 7.627702236175537, -6.09566068649292, -4.252075672149658, 2.3062491416931152, -3.001413345336914, -4.934478759765625, -1.146929144859314, 5.401505947113037, 9.362634658813477, 1.4780973196029663, 2.3200225830078125, -9.374674797058105, 4.0652995109558105, 4.594991207122803, -8.78696060180664, 4.264030933380127, 4.799936294555664, 4.620248317718506, -6.673924446105957, -1.8083609342575073, 10.495523452758789, -11.966232299804688, 9.214494705200195, -7.243636131286621, 2.241650342941284, -0.9343847036361694, -7.397225856781006, 4.176105499267578, 9.632670402526855, -2.910283088684082, -7.625572204589844, -9.129548072814941, 7.647857189178467, -11.516830444335938, 2.1685736179351807, 2.9080488681793213, -15.234837532043457, 8.741161346435547, -3.9451072216033936, 6.279733180999756, -11.746658325195312, 7.994901657104492, -7.2290472984313965, 3.5568556785583496, 9.161150932312012, 8.347134590148926, 0.676271378993988, 6.837164878845215, 0.33159711956977844, -4.497386455535889, 1.2855825424194336, -9.53034782409668, -13.12483024597168, 7.350098609924316, -8.488837242126465, -12.989062309265137, -3.976292610168457, -8.42274284362793, 10.352790832519531, -0.6991397142410278, -5.341774940490723, -6.479484558105469, -6.231406211853027, -12.62828540802002, 4.55256986618042, -5.417169570922852, 4.002582550048828, -10.865830421447754, -4.339494705200195, 7.627471923828125, 11.735356330871582, -5.019721031188965, -3.0638082027435303, 0.17048193514347076, 7.084665775299072, -3.30773663520813, 1.0590161085128784, -7.786677360534668, -4.979729175567627, 0.6945585012435913, -13.280659675598145, 2.4553284645080566, 10.752455711364746, -8.209671020507812, 3.6860668659210205, -9.323930740356445, -12.979691505432129, -11.33434772491455, 0.5578621625900269, -13.221358299255371, -8.450653076171875, -0.3816547691822052, 1.086927056312561, 5.304111480712891, -7.420952796936035, 2.271514892578125, 8.101339340209961, -1.2948459386825562, -7.4731621742248535, 4.686836242675781, -5.580482482910156, -5.424001693725586, 12.033326148986816, 11.71020221710205, 6.539724349975586, 0.7089182138442993, 10.038003921508789, -4.82051944732666, 6.759970664978027, -7.116487979888916, 13.314131736755371, 9.566381454467773, 6.5488481521606445, -4.39784574508667, -0.5430853962898254, -1.2899832725524902, 2.217602252960205, 3.5298678874969482, -9.595037460327148, 1.7217116355895996, 5.657566547393799, 1.8542779684066772, -7.356818199157715, -1.6743531227111816, -5.3226752281188965, -7.452084064483643, -5.250583648681641, 10.650782585144043, 5.057509422302246, 4.8788533210754395, 8.000069618225098, -7.000639915466309, -14.966805458068848, -3.6567158699035645, 8.794305801391602, 9.651345252990723, 1.1280404329299927, 5.7311906814575195, -2.6052541732788086, -14.833782196044922, -5.819297790527344, 11.624378204345703, -1.1579984426498413, -14.552001953125, -4.1712646484375, 6.481573581695557, 6.8856520652771, -0.7585412263870239, 9.420361518859863, 3.5214755535125732, -13.349651336669922]}],\n",
       "                        {\"autosize\": false, \"height\": 600, \"hovermode\": \"closest\", \"showlegend\": true, \"template\": {\"data\": {\"bar\": [{\"error_x\": {\"color\": \"#2a3f5f\"}, \"error_y\": {\"color\": \"#2a3f5f\"}, \"marker\": {\"line\": {\"color\": \"#E5ECF6\", \"width\": 0.5}}, \"type\": \"bar\"}], \"barpolar\": [{\"marker\": {\"line\": {\"color\": \"#E5ECF6\", \"width\": 0.5}}, \"type\": \"barpolar\"}], \"carpet\": [{\"aaxis\": {\"endlinecolor\": \"#2a3f5f\", \"gridcolor\": \"white\", \"linecolor\": \"white\", \"minorgridcolor\": \"white\", \"startlinecolor\": \"#2a3f5f\"}, \"baxis\": {\"endlinecolor\": \"#2a3f5f\", \"gridcolor\": \"white\", \"linecolor\": \"white\", \"minorgridcolor\": \"white\", \"startlinecolor\": \"#2a3f5f\"}, \"type\": \"carpet\"}], \"choropleth\": [{\"colorbar\": {\"outlinewidth\": 0, \"ticks\": \"\"}, \"type\": \"choropleth\"}], \"contour\": [{\"colorbar\": {\"outlinewidth\": 0, \"ticks\": \"\"}, \"colorscale\": [[0.0, \"#0d0887\"], [0.1111111111111111, \"#46039f\"], [0.2222222222222222, \"#7201a8\"], [0.3333333333333333, \"#9c179e\"], [0.4444444444444444, \"#bd3786\"], [0.5555555555555556, \"#d8576b\"], [0.6666666666666666, \"#ed7953\"], [0.7777777777777778, \"#fb9f3a\"], [0.8888888888888888, \"#fdca26\"], [1.0, \"#f0f921\"]], \"type\": \"contour\"}], \"contourcarpet\": [{\"colorbar\": {\"outlinewidth\": 0, \"ticks\": \"\"}, \"type\": \"contourcarpet\"}], \"heatmap\": [{\"colorbar\": {\"outlinewidth\": 0, \"ticks\": \"\"}, \"colorscale\": [[0.0, \"#0d0887\"], [0.1111111111111111, \"#46039f\"], [0.2222222222222222, \"#7201a8\"], [0.3333333333333333, \"#9c179e\"], [0.4444444444444444, \"#bd3786\"], [0.5555555555555556, \"#d8576b\"], [0.6666666666666666, \"#ed7953\"], [0.7777777777777778, \"#fb9f3a\"], [0.8888888888888888, \"#fdca26\"], [1.0, \"#f0f921\"]], \"type\": \"heatmap\"}], \"heatmapgl\": [{\"colorbar\": {\"outlinewidth\": 0, \"ticks\": \"\"}, \"colorscale\": [[0.0, \"#0d0887\"], [0.1111111111111111, \"#46039f\"], [0.2222222222222222, \"#7201a8\"], [0.3333333333333333, \"#9c179e\"], [0.4444444444444444, \"#bd3786\"], [0.5555555555555556, \"#d8576b\"], [0.6666666666666666, \"#ed7953\"], [0.7777777777777778, \"#fb9f3a\"], [0.8888888888888888, \"#fdca26\"], [1.0, \"#f0f921\"]], \"type\": \"heatmapgl\"}], \"histogram\": [{\"marker\": {\"colorbar\": {\"outlinewidth\": 0, \"ticks\": \"\"}}, \"type\": \"histogram\"}], \"histogram2d\": [{\"colorbar\": {\"outlinewidth\": 0, \"ticks\": \"\"}, \"colorscale\": [[0.0, \"#0d0887\"], [0.1111111111111111, \"#46039f\"], [0.2222222222222222, \"#7201a8\"], [0.3333333333333333, \"#9c179e\"], [0.4444444444444444, \"#bd3786\"], [0.5555555555555556, \"#d8576b\"], [0.6666666666666666, \"#ed7953\"], [0.7777777777777778, \"#fb9f3a\"], [0.8888888888888888, \"#fdca26\"], [1.0, \"#f0f921\"]], \"type\": \"histogram2d\"}], \"histogram2dcontour\": [{\"colorbar\": {\"outlinewidth\": 0, \"ticks\": \"\"}, \"colorscale\": [[0.0, \"#0d0887\"], [0.1111111111111111, \"#46039f\"], [0.2222222222222222, \"#7201a8\"], [0.3333333333333333, \"#9c179e\"], [0.4444444444444444, \"#bd3786\"], [0.5555555555555556, \"#d8576b\"], [0.6666666666666666, \"#ed7953\"], [0.7777777777777778, \"#fb9f3a\"], [0.8888888888888888, \"#fdca26\"], [1.0, \"#f0f921\"]], \"type\": \"histogram2dcontour\"}], \"mesh3d\": [{\"colorbar\": {\"outlinewidth\": 0, \"ticks\": \"\"}, \"type\": \"mesh3d\"}], \"parcoords\": [{\"line\": {\"colorbar\": {\"outlinewidth\": 0, \"ticks\": \"\"}}, \"type\": \"parcoords\"}], \"scatter\": [{\"marker\": {\"colorbar\": {\"outlinewidth\": 0, \"ticks\": \"\"}}, \"type\": \"scatter\"}], \"scatter3d\": [{\"line\": {\"colorbar\": {\"outlinewidth\": 0, \"ticks\": \"\"}}, \"marker\": {\"colorbar\": {\"outlinewidth\": 0, \"ticks\": \"\"}}, \"type\": \"scatter3d\"}], \"scattercarpet\": [{\"marker\": {\"colorbar\": {\"outlinewidth\": 0, \"ticks\": \"\"}}, \"type\": \"scattercarpet\"}], \"scattergeo\": [{\"marker\": {\"colorbar\": {\"outlinewidth\": 0, \"ticks\": \"\"}}, \"type\": \"scattergeo\"}], \"scattergl\": [{\"marker\": {\"colorbar\": {\"outlinewidth\": 0, \"ticks\": \"\"}}, \"type\": \"scattergl\"}], \"scattermapbox\": [{\"marker\": {\"colorbar\": {\"outlinewidth\": 0, \"ticks\": \"\"}}, \"type\": \"scattermapbox\"}], \"scatterpolar\": [{\"marker\": {\"colorbar\": {\"outlinewidth\": 0, \"ticks\": \"\"}}, \"type\": \"scatterpolar\"}], \"scatterpolargl\": [{\"marker\": {\"colorbar\": {\"outlinewidth\": 0, \"ticks\": \"\"}}, \"type\": \"scatterpolargl\"}], \"scatterternary\": [{\"marker\": {\"colorbar\": {\"outlinewidth\": 0, \"ticks\": \"\"}}, \"type\": \"scatterternary\"}], \"surface\": [{\"colorbar\": {\"outlinewidth\": 0, \"ticks\": \"\"}, \"colorscale\": [[0.0, \"#0d0887\"], [0.1111111111111111, \"#46039f\"], [0.2222222222222222, \"#7201a8\"], [0.3333333333333333, \"#9c179e\"], [0.4444444444444444, \"#bd3786\"], [0.5555555555555556, \"#d8576b\"], [0.6666666666666666, \"#ed7953\"], [0.7777777777777778, \"#fb9f3a\"], [0.8888888888888888, \"#fdca26\"], [1.0, \"#f0f921\"]], \"type\": \"surface\"}], \"table\": [{\"cells\": {\"fill\": {\"color\": \"#EBF0F8\"}, \"line\": {\"color\": \"white\"}}, \"header\": {\"fill\": {\"color\": \"#C8D4E3\"}, \"line\": {\"color\": \"white\"}}, \"type\": \"table\"}]}, \"layout\": {\"annotationdefaults\": {\"arrowcolor\": \"#2a3f5f\", \"arrowhead\": 0, \"arrowwidth\": 1}, \"colorscale\": {\"diverging\": [[0, \"#8e0152\"], [0.1, \"#c51b7d\"], [0.2, \"#de77ae\"], [0.3, \"#f1b6da\"], [0.4, \"#fde0ef\"], [0.5, \"#f7f7f7\"], [0.6, \"#e6f5d0\"], [0.7, \"#b8e186\"], [0.8, \"#7fbc41\"], [0.9, \"#4d9221\"], [1, \"#276419\"]], \"sequential\": [[0.0, \"#0d0887\"], [0.1111111111111111, \"#46039f\"], [0.2222222222222222, \"#7201a8\"], [0.3333333333333333, \"#9c179e\"], [0.4444444444444444, \"#bd3786\"], [0.5555555555555556, \"#d8576b\"], [0.6666666666666666, \"#ed7953\"], [0.7777777777777778, \"#fb9f3a\"], [0.8888888888888888, \"#fdca26\"], [1.0, \"#f0f921\"]], \"sequentialminus\": [[0.0, \"#0d0887\"], [0.1111111111111111, \"#46039f\"], [0.2222222222222222, \"#7201a8\"], [0.3333333333333333, \"#9c179e\"], [0.4444444444444444, \"#bd3786\"], [0.5555555555555556, \"#d8576b\"], [0.6666666666666666, \"#ed7953\"], [0.7777777777777778, \"#fb9f3a\"], [0.8888888888888888, \"#fdca26\"], [1.0, \"#f0f921\"]]}, \"colorway\": [\"#636efa\", \"#EF553B\", \"#00cc96\", \"#ab63fa\", \"#FFA15A\", \"#19d3f3\", \"#FF6692\", \"#B6E880\", \"#FF97FF\", \"#FECB52\"], \"font\": {\"color\": \"#2a3f5f\"}, \"geo\": {\"bgcolor\": \"white\", \"lakecolor\": \"white\", \"landcolor\": \"#E5ECF6\", \"showlakes\": true, \"showland\": true, \"subunitcolor\": \"white\"}, \"hoverlabel\": {\"align\": \"left\"}, \"hovermode\": \"closest\", \"mapbox\": {\"style\": \"light\"}, \"paper_bgcolor\": \"white\", \"plot_bgcolor\": \"#E5ECF6\", \"polar\": {\"angularaxis\": {\"gridcolor\": \"white\", \"linecolor\": \"white\", \"ticks\": \"\"}, \"bgcolor\": \"#E5ECF6\", \"radialaxis\": {\"gridcolor\": \"white\", \"linecolor\": \"white\", \"ticks\": \"\"}}, \"scene\": {\"xaxis\": {\"backgroundcolor\": \"#E5ECF6\", \"gridcolor\": \"white\", \"gridwidth\": 2, \"linecolor\": \"white\", \"showbackground\": true, \"ticks\": \"\", \"zerolinecolor\": \"white\"}, \"yaxis\": {\"backgroundcolor\": \"#E5ECF6\", \"gridcolor\": \"white\", \"gridwidth\": 2, \"linecolor\": \"white\", \"showbackground\": true, \"ticks\": \"\", \"zerolinecolor\": \"white\"}, \"zaxis\": {\"backgroundcolor\": \"#E5ECF6\", \"gridcolor\": \"white\", \"gridwidth\": 2, \"linecolor\": \"white\", \"showbackground\": true, \"ticks\": \"\", \"zerolinecolor\": \"white\"}}, \"shapedefaults\": {\"line\": {\"color\": \"#2a3f5f\"}}, \"ternary\": {\"aaxis\": {\"gridcolor\": \"white\", \"linecolor\": \"white\", \"ticks\": \"\"}, \"baxis\": {\"gridcolor\": \"white\", \"linecolor\": \"white\", \"ticks\": \"\"}, \"bgcolor\": \"#E5ECF6\", \"caxis\": {\"gridcolor\": \"white\", \"linecolor\": \"white\", \"ticks\": \"\"}}, \"title\": {\"x\": 0.05}, \"xaxis\": {\"automargin\": true, \"gridcolor\": \"white\", \"linecolor\": \"white\", \"ticks\": \"\", \"zerolinecolor\": \"white\", \"zerolinewidth\": 2}, \"yaxis\": {\"automargin\": true, \"gridcolor\": \"white\", \"linecolor\": \"white\", \"ticks\": \"\", \"zerolinecolor\": \"white\", \"zerolinewidth\": 2}}}, \"title\": {\"text\": \"TSNE (T-Distributed Stochastic Neighbour Embedding)\"}, \"width\": 600, \"xaxis\": {\"zeroline\": false}, \"yaxis\": {\"zeroline\": false}},\n",
       "                        {\"responsive\": true}\n",
       "                    ).then(function(){\n",
       "                            \n",
       "var gd = document.getElementById('4f9cb978-42d1-485a-b6dc-033ce2de9c55');\n",
       "var x = new MutationObserver(function (mutations, observer) {{\n",
       "        var display = window.getComputedStyle(gd).display;\n",
       "        if (!display || display === 'none') {{\n",
       "            console.log([gd, 'removed!']);\n",
       "            Plotly.purge(gd);\n",
       "            observer.disconnect();\n",
       "        }}\n",
       "}});\n",
       "\n",
       "// Listen for the removal of the full notebook cells\n",
       "var notebookContainer = gd.closest('#notebook-container');\n",
       "if (notebookContainer) {{\n",
       "    x.observe(notebookContainer, {childList: true});\n",
       "}}\n",
       "\n",
       "// Listen for the clearing of the current output cell\n",
       "var outputEl = gd.closest('.output');\n",
       "if (outputEl) {{\n",
       "    x.observe(outputEl, {childList: true});\n",
       "}}\n",
       "\n",
       "                        })\n",
       "                };\n",
       "                });\n",
       "            </script>\n",
       "        </div>"
      ]
     },
     "metadata": {},
     "output_type": "display_data"
    }
   ],
   "source": [
    "traceTSNE = go.Scatter(\n",
    "    x = tsne_results[:,0],\n",
    "    y = tsne_results[:,1],\n",
    "    mode = 'markers',\n",
    "     text = df['Name'],\n",
    "    hoverinfo = 'text',\n",
    "    showlegend = True,\n",
    "    marker = dict(\n",
    "        size = 8,\n",
    "        color = clusters,\n",
    "        colorscale ='Portland',\n",
    "        showscale = False,\n",
    "        line = dict(\n",
    "            width = 2,\n",
    "            color = 'rgb(255, 255, 255)'\n",
    "        ),\n",
    "        opacity = 0.8\n",
    "    )\n",
    ")\n",
    "data = [traceTSNE]\n",
    "\n",
    "layout = dict(title = 'TSNE (T-Distributed Stochastic Neighbour Embedding)',\n",
    "              hovermode= 'closest',\n",
    "              yaxis = dict(zeroline = False),\n",
    "              xaxis = dict(zeroline = False),\n",
    "              showlegend= True,\n",
    "              autosize=False,\n",
    "              width=600,\n",
    "              height=600,\n",
    "             )\n",
    "\n",
    "fig = dict(data=data, layout=layout)\n",
    "py.iplot(fig, filename='styled-scatter')"
   ]
  },
  {
   "cell_type": "markdown",
   "metadata": {},
   "source": [
    "**8.Sonstiges**"
   ]
  },
  {
   "cell_type": "code",
   "execution_count": 17,
   "metadata": {},
   "outputs": [
    {
     "name": "stdout",
     "output_type": "stream",
     "text": [
      "\n",
      "Cluster 0\n",
      "Butter,Salz,Milch,Mehl,Ei\n",
      "\n",
      "Cluster 1\n",
      "Bund,Ingwer,Schweinelende,Frühlingszwiebel,Sojasauce\n",
      "\n",
      "Cluster 2\n",
      "Sahne,Paprikapulver,Öl,Pfeffer,Zwiebel\n",
      "\n",
      "Cluster 3\n",
      "Tomate,Kräuter,Tomatenmark,Salz,Pfeffer\n",
      "\n",
      "Cluster 4\n",
      "Knoblauch,Zehe/n,Pfeffer,Zitrone,Olivenöl\n"
     ]
    }
   ],
   "source": [
    "def get_top_keywords(data, clusters, labels, n_terms):\n",
    "    df = pd.DataFrame(data.todense()).groupby(clusters).mean()\n",
    "    \n",
    "    for i,r in df.iterrows():\n",
    "        print('\\nCluster {}'.format(i))\n",
    "        print(','.join([labels[t] for t in np.argsort(r)[-n_terms:]]))\n",
    "            \n",
    "get_top_keywords(tfidf_matrix, clusters, tfidf_vectorizer.get_feature_names(), 5)"
   ]
  }
 ],
 "metadata": {
  "kernelspec": {
   "display_name": "Python 3",
   "language": "python",
   "name": "python3"
  },
  "language_info": {
   "codemirror_mode": {
    "name": "ipython",
    "version": 3
   },
   "file_extension": ".py",
   "mimetype": "text/x-python",
   "name": "python",
   "nbconvert_exporter": "python",
   "pygments_lexer": "ipython3",
   "version": "3.6.6"
  }
 },
 "nbformat": 4,
 "nbformat_minor": 1
}
